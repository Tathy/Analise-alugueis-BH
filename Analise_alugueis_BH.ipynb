{
  "nbformat": 4,
  "nbformat_minor": 0,
  "metadata": {
    "colab": {
      "name": "Analise-alugueis-BH.ipynb",
      "provenance": []
    },
    "kernelspec": {
      "name": "python3",
      "display_name": "Python 3"
    },
    "language_info": {
      "name": "python"
    }
  },
  "cells": [
    {
      "cell_type": "markdown",
      "source": [
        "# Preços de aluguéis em Belo Horizonte"
      ],
      "metadata": {
        "id": "oYaGhB-uRvgb"
      }
    },
    {
      "cell_type": "markdown",
      "source": [
        "Fonte: https://www.kaggle.com/datasets/guilherme26/house-pricing-in-belo-horizonte"
      ],
      "metadata": {
        "id": "AQUjlYCXR34z"
      }
    },
    {
      "cell_type": "code",
      "execution_count": 360,
      "metadata": {
        "id": "6FFXVmc7Rk8u"
      },
      "outputs": [],
      "source": [
        "import pandas as pd\n",
        "\n",
        "data_alugueis = pd.read_csv(\"/content/drive/MyDrive/Projetos/Aluguéis em Belo Horizonte/data.csv\")"
      ]
    },
    {
      "cell_type": "code",
      "source": [
        "data_alugueis.head()"
      ],
      "metadata": {
        "colab": {
          "base_uri": "https://localhost:8080/",
          "height": 206
        },
        "id": "We-nFFDoSWN6",
        "outputId": "f1b61487-dcc6-481e-c601-2d2e820cb66c"
      },
      "execution_count": 361,
      "outputs": [
        {
          "output_type": "execute_result",
          "data": {
            "text/plain": [
              "                          address  adm-fees garage-places      price rooms  \\\n",
              "0    Avenida Raja Gabaglia, 1583      470.0             1   330000.0     1   \n",
              "1       Rua Espírito Santo, 1171        NaN             1   480000.0     2   \n",
              "2  Rua dos Expedicionários, 1082        NaN             5  1190000.0     4   \n",
              "3        Rua Marechal Hermes, 81      750.0             4  1590000.0     4   \n",
              "4                Rua Juruna, 110        NaN             6   550000.0     3   \n",
              "\n",
              "  square-foot   neighborhood              city   latitude  longitude  \n",
              "0          40     Luxemburgo   Belo Horizonte  -19.936415 -43.953396  \n",
              "1       45-65         Centro   Belo Horizonte  -18.864776 -41.121777  \n",
              "2         411   Santa Amélia   Belo Horizonte  -20.225241 -44.397780  \n",
              "3         158      Gutierrez   Belo Horizonte  -19.937155 -43.958694  \n",
              "4         278      Pindorama   Belo Horizonte  -19.912982 -44.019944  "
            ],
            "text/html": [
              "\n",
              "  <div id=\"df-37fba3a0-339c-46cf-9fc0-d19137dafc29\">\n",
              "    <div class=\"colab-df-container\">\n",
              "      <div>\n",
              "<style scoped>\n",
              "    .dataframe tbody tr th:only-of-type {\n",
              "        vertical-align: middle;\n",
              "    }\n",
              "\n",
              "    .dataframe tbody tr th {\n",
              "        vertical-align: top;\n",
              "    }\n",
              "\n",
              "    .dataframe thead th {\n",
              "        text-align: right;\n",
              "    }\n",
              "</style>\n",
              "<table border=\"1\" class=\"dataframe\">\n",
              "  <thead>\n",
              "    <tr style=\"text-align: right;\">\n",
              "      <th></th>\n",
              "      <th>address</th>\n",
              "      <th>adm-fees</th>\n",
              "      <th>garage-places</th>\n",
              "      <th>price</th>\n",
              "      <th>rooms</th>\n",
              "      <th>square-foot</th>\n",
              "      <th>neighborhood</th>\n",
              "      <th>city</th>\n",
              "      <th>latitude</th>\n",
              "      <th>longitude</th>\n",
              "    </tr>\n",
              "  </thead>\n",
              "  <tbody>\n",
              "    <tr>\n",
              "      <th>0</th>\n",
              "      <td>Avenida Raja Gabaglia, 1583</td>\n",
              "      <td>470.0</td>\n",
              "      <td>1</td>\n",
              "      <td>330000.0</td>\n",
              "      <td>1</td>\n",
              "      <td>40</td>\n",
              "      <td>Luxemburgo</td>\n",
              "      <td>Belo Horizonte</td>\n",
              "      <td>-19.936415</td>\n",
              "      <td>-43.953396</td>\n",
              "    </tr>\n",
              "    <tr>\n",
              "      <th>1</th>\n",
              "      <td>Rua Espírito Santo, 1171</td>\n",
              "      <td>NaN</td>\n",
              "      <td>1</td>\n",
              "      <td>480000.0</td>\n",
              "      <td>2</td>\n",
              "      <td>45-65</td>\n",
              "      <td>Centro</td>\n",
              "      <td>Belo Horizonte</td>\n",
              "      <td>-18.864776</td>\n",
              "      <td>-41.121777</td>\n",
              "    </tr>\n",
              "    <tr>\n",
              "      <th>2</th>\n",
              "      <td>Rua dos Expedicionários, 1082</td>\n",
              "      <td>NaN</td>\n",
              "      <td>5</td>\n",
              "      <td>1190000.0</td>\n",
              "      <td>4</td>\n",
              "      <td>411</td>\n",
              "      <td>Santa Amélia</td>\n",
              "      <td>Belo Horizonte</td>\n",
              "      <td>-20.225241</td>\n",
              "      <td>-44.397780</td>\n",
              "    </tr>\n",
              "    <tr>\n",
              "      <th>3</th>\n",
              "      <td>Rua Marechal Hermes, 81</td>\n",
              "      <td>750.0</td>\n",
              "      <td>4</td>\n",
              "      <td>1590000.0</td>\n",
              "      <td>4</td>\n",
              "      <td>158</td>\n",
              "      <td>Gutierrez</td>\n",
              "      <td>Belo Horizonte</td>\n",
              "      <td>-19.937155</td>\n",
              "      <td>-43.958694</td>\n",
              "    </tr>\n",
              "    <tr>\n",
              "      <th>4</th>\n",
              "      <td>Rua Juruna, 110</td>\n",
              "      <td>NaN</td>\n",
              "      <td>6</td>\n",
              "      <td>550000.0</td>\n",
              "      <td>3</td>\n",
              "      <td>278</td>\n",
              "      <td>Pindorama</td>\n",
              "      <td>Belo Horizonte</td>\n",
              "      <td>-19.912982</td>\n",
              "      <td>-44.019944</td>\n",
              "    </tr>\n",
              "  </tbody>\n",
              "</table>\n",
              "</div>\n",
              "      <button class=\"colab-df-convert\" onclick=\"convertToInteractive('df-37fba3a0-339c-46cf-9fc0-d19137dafc29')\"\n",
              "              title=\"Convert this dataframe to an interactive table.\"\n",
              "              style=\"display:none;\">\n",
              "        \n",
              "  <svg xmlns=\"http://www.w3.org/2000/svg\" height=\"24px\"viewBox=\"0 0 24 24\"\n",
              "       width=\"24px\">\n",
              "    <path d=\"M0 0h24v24H0V0z\" fill=\"none\"/>\n",
              "    <path d=\"M18.56 5.44l.94 2.06.94-2.06 2.06-.94-2.06-.94-.94-2.06-.94 2.06-2.06.94zm-11 1L8.5 8.5l.94-2.06 2.06-.94-2.06-.94L8.5 2.5l-.94 2.06-2.06.94zm10 10l.94 2.06.94-2.06 2.06-.94-2.06-.94-.94-2.06-.94 2.06-2.06.94z\"/><path d=\"M17.41 7.96l-1.37-1.37c-.4-.4-.92-.59-1.43-.59-.52 0-1.04.2-1.43.59L10.3 9.45l-7.72 7.72c-.78.78-.78 2.05 0 2.83L4 21.41c.39.39.9.59 1.41.59.51 0 1.02-.2 1.41-.59l7.78-7.78 2.81-2.81c.8-.78.8-2.07 0-2.86zM5.41 20L4 18.59l7.72-7.72 1.47 1.35L5.41 20z\"/>\n",
              "  </svg>\n",
              "      </button>\n",
              "      \n",
              "  <style>\n",
              "    .colab-df-container {\n",
              "      display:flex;\n",
              "      flex-wrap:wrap;\n",
              "      gap: 12px;\n",
              "    }\n",
              "\n",
              "    .colab-df-convert {\n",
              "      background-color: #E8F0FE;\n",
              "      border: none;\n",
              "      border-radius: 50%;\n",
              "      cursor: pointer;\n",
              "      display: none;\n",
              "      fill: #1967D2;\n",
              "      height: 32px;\n",
              "      padding: 0 0 0 0;\n",
              "      width: 32px;\n",
              "    }\n",
              "\n",
              "    .colab-df-convert:hover {\n",
              "      background-color: #E2EBFA;\n",
              "      box-shadow: 0px 1px 2px rgba(60, 64, 67, 0.3), 0px 1px 3px 1px rgba(60, 64, 67, 0.15);\n",
              "      fill: #174EA6;\n",
              "    }\n",
              "\n",
              "    [theme=dark] .colab-df-convert {\n",
              "      background-color: #3B4455;\n",
              "      fill: #D2E3FC;\n",
              "    }\n",
              "\n",
              "    [theme=dark] .colab-df-convert:hover {\n",
              "      background-color: #434B5C;\n",
              "      box-shadow: 0px 1px 3px 1px rgba(0, 0, 0, 0.15);\n",
              "      filter: drop-shadow(0px 1px 2px rgba(0, 0, 0, 0.3));\n",
              "      fill: #FFFFFF;\n",
              "    }\n",
              "  </style>\n",
              "\n",
              "      <script>\n",
              "        const buttonEl =\n",
              "          document.querySelector('#df-37fba3a0-339c-46cf-9fc0-d19137dafc29 button.colab-df-convert');\n",
              "        buttonEl.style.display =\n",
              "          google.colab.kernel.accessAllowed ? 'block' : 'none';\n",
              "\n",
              "        async function convertToInteractive(key) {\n",
              "          const element = document.querySelector('#df-37fba3a0-339c-46cf-9fc0-d19137dafc29');\n",
              "          const dataTable =\n",
              "            await google.colab.kernel.invokeFunction('convertToInteractive',\n",
              "                                                     [key], {});\n",
              "          if (!dataTable) return;\n",
              "\n",
              "          const docLinkHtml = 'Like what you see? Visit the ' +\n",
              "            '<a target=\"_blank\" href=https://colab.research.google.com/notebooks/data_table.ipynb>data table notebook</a>'\n",
              "            + ' to learn more about interactive tables.';\n",
              "          element.innerHTML = '';\n",
              "          dataTable['output_type'] = 'display_data';\n",
              "          await google.colab.output.renderOutput(dataTable, element);\n",
              "          const docLink = document.createElement('div');\n",
              "          docLink.innerHTML = docLinkHtml;\n",
              "          element.appendChild(docLink);\n",
              "        }\n",
              "      </script>\n",
              "    </div>\n",
              "  </div>\n",
              "  "
            ]
          },
          "metadata": {},
          "execution_count": 361
        }
      ]
    },
    {
      "cell_type": "markdown",
      "source": [
        "# Tratamento dos dados"
      ],
      "metadata": {
        "id": "Gx9j-6y0YJFO"
      }
    },
    {
      "cell_type": "code",
      "source": [
        "data_alugueis.rename(columns = {'address':'Endereco', 'adm-fees': 'Valor_condominio', 'garage-places':'Vagas_garagem', 'price':'Valor_aluguel', \n",
        "                       'rooms':'Quartos', 'square-foot':'m2', 'neighborhood':'Bairro', 'city':'Cidade', 'latitude':'Latitude', 'longitude':'Longitude'}, inplace = True)"
      ],
      "metadata": {
        "id": "3tK109OhVmYP"
      },
      "execution_count": 362,
      "outputs": []
    },
    {
      "cell_type": "code",
      "source": [
        "data_alugueis.info()"
      ],
      "metadata": {
        "colab": {
          "base_uri": "https://localhost:8080/"
        },
        "id": "ijVt_alXSYnw",
        "outputId": "cbfb5981-3a88-46af-b260-edb07287e80e"
      },
      "execution_count": 363,
      "outputs": [
        {
          "output_type": "stream",
          "name": "stdout",
          "text": [
            "<class 'pandas.core.frame.DataFrame'>\n",
            "RangeIndex: 5981 entries, 0 to 5980\n",
            "Data columns (total 10 columns):\n",
            " #   Column            Non-Null Count  Dtype  \n",
            "---  ------            --------------  -----  \n",
            " 0   Endereco          5981 non-null   object \n",
            " 1   Valor_condominio  3977 non-null   float64\n",
            " 2   Vagas_garagem     5981 non-null   object \n",
            " 3   Valor_aluguel     5951 non-null   float64\n",
            " 4   Quartos           5981 non-null   object \n",
            " 5   m2                5981 non-null   object \n",
            " 6   Bairro            5957 non-null   object \n",
            " 7   Cidade            5981 non-null   object \n",
            " 8   Latitude          5981 non-null   float64\n",
            " 9   Longitude         5981 non-null   float64\n",
            "dtypes: float64(4), object(6)\n",
            "memory usage: 467.4+ KB\n"
          ]
        }
      ]
    },
    {
      "cell_type": "markdown",
      "source": [
        "## Cidade"
      ],
      "metadata": {
        "id": "QatHCpLebsiN"
      }
    },
    {
      "cell_type": "markdown",
      "source": [
        "Tratamento de valores que estão com espaços em excesso.\n",
        "\n",
        "Seleção da Cidade Belo Horizonte."
      ],
      "metadata": {
        "id": "ECQLXyA_lBGF"
      }
    },
    {
      "cell_type": "code",
      "source": [
        "data_alugueis[\"Cidade\"].value_counts().index"
      ],
      "metadata": {
        "colab": {
          "base_uri": "https://localhost:8080/"
        },
        "id": "E0BD2o7LZH18",
        "outputId": "38c7e755-2a4c-4640-ffce-686e2a019846"
      },
      "execution_count": 364,
      "outputs": [
        {
          "output_type": "execute_result",
          "data": {
            "text/plain": [
              "Index([' Belo Horizonte ', 'Belo Horizonte', ' Contagem ', ' Nova Lima ',\n",
              "       ' Sabará ', ' Ribeirão das Neves ', ' Lagoa Santa ', ' 461 ', ' 1542 ',\n",
              "       ' 22 ', ' São Paulo ', ' 1601 ', ' 570 ', ' Divinópolis ', ' 1122 ',\n",
              "       ' Km 480 ', ' Betim ', ' Santa Luzia ', ' 31 '],\n",
              "      dtype='object')"
            ]
          },
          "metadata": {},
          "execution_count": 364
        }
      ]
    },
    {
      "cell_type": "code",
      "source": [
        "data_alugueis[\"Cidade\"] = data_alugueis[\"Cidade\"].str.strip()"
      ],
      "metadata": {
        "id": "YW2rEPVtZP82"
      },
      "execution_count": 365,
      "outputs": []
    },
    {
      "cell_type": "code",
      "source": [
        "data_alugueis[\"Cidade\"].value_counts().index"
      ],
      "metadata": {
        "colab": {
          "base_uri": "https://localhost:8080/"
        },
        "id": "_KWndCBjZhAz",
        "outputId": "f718b94a-aa53-4c7c-a750-6c19ff3e4db0"
      },
      "execution_count": 366,
      "outputs": [
        {
          "output_type": "execute_result",
          "data": {
            "text/plain": [
              "Index(['Belo Horizonte', 'Contagem', 'Nova Lima', 'Sabará',\n",
              "       'Ribeirão das Neves', 'Lagoa Santa', '461', '1542', '22', 'São Paulo',\n",
              "       '1601', '570', '1122', 'Divinópolis', 'Km 480', 'Betim', 'Santa Luzia',\n",
              "       '31'],\n",
              "      dtype='object')"
            ]
          },
          "metadata": {},
          "execution_count": 366
        }
      ]
    },
    {
      "cell_type": "code",
      "source": [
        "# Cidades presentes no dataset\n",
        "data_alugueis[\"Cidade\"].value_counts()"
      ],
      "metadata": {
        "colab": {
          "base_uri": "https://localhost:8080/"
        },
        "id": "VOUxdXlrSuc6",
        "outputId": "c957e415-aa7f-4d9f-f6f7-4919bf6a242c"
      },
      "execution_count": 367,
      "outputs": [
        {
          "output_type": "execute_result",
          "data": {
            "text/plain": [
              "Belo Horizonte        5949\n",
              "Contagem                 6\n",
              "Nova Lima                4\n",
              "Sabará                   4\n",
              "Ribeirão das Neves       3\n",
              "Lagoa Santa              2\n",
              "461                      2\n",
              "1542                     1\n",
              "22                       1\n",
              "São Paulo                1\n",
              "1601                     1\n",
              "570                      1\n",
              "1122                     1\n",
              "Divinópolis              1\n",
              "Km 480                   1\n",
              "Betim                    1\n",
              "Santa Luzia              1\n",
              "31                       1\n",
              "Name: Cidade, dtype: int64"
            ]
          },
          "metadata": {},
          "execution_count": 367
        }
      ]
    },
    {
      "cell_type": "code",
      "source": [
        "data_alugueis[\"Cidade\"].value_counts()"
      ],
      "metadata": {
        "colab": {
          "base_uri": "https://localhost:8080/"
        },
        "id": "cRysEtnkS7Ba",
        "outputId": "15a5649d-3586-4c4c-81a1-f125702c5b07"
      },
      "execution_count": 368,
      "outputs": [
        {
          "output_type": "execute_result",
          "data": {
            "text/plain": [
              "Belo Horizonte        5949\n",
              "Contagem                 6\n",
              "Nova Lima                4\n",
              "Sabará                   4\n",
              "Ribeirão das Neves       3\n",
              "Lagoa Santa              2\n",
              "461                      2\n",
              "1542                     1\n",
              "22                       1\n",
              "São Paulo                1\n",
              "1601                     1\n",
              "570                      1\n",
              "1122                     1\n",
              "Divinópolis              1\n",
              "Km 480                   1\n",
              "Betim                    1\n",
              "Santa Luzia              1\n",
              "31                       1\n",
              "Name: Cidade, dtype: int64"
            ]
          },
          "metadata": {},
          "execution_count": 368
        }
      ]
    },
    {
      "cell_type": "code",
      "source": [
        "data_alugueis = data_alugueis.query(\"Cidade == 'Belo Horizonte'\")\n",
        "data_alugueis.head()"
      ],
      "metadata": {
        "colab": {
          "base_uri": "https://localhost:8080/",
          "height": 0
        },
        "id": "zLcoieuPZDqb",
        "outputId": "658e9cfb-320c-477e-e4c8-266cd747d91f"
      },
      "execution_count": 369,
      "outputs": [
        {
          "output_type": "execute_result",
          "data": {
            "text/plain": [
              "                         Endereco  Valor_condominio Vagas_garagem  \\\n",
              "0    Avenida Raja Gabaglia, 1583              470.0             1   \n",
              "1       Rua Espírito Santo, 1171                NaN             1   \n",
              "2  Rua dos Expedicionários, 1082                NaN             5   \n",
              "3        Rua Marechal Hermes, 81              750.0             4   \n",
              "4                Rua Juruna, 110                NaN             6   \n",
              "\n",
              "   Valor_aluguel Quartos     m2         Bairro          Cidade   Latitude  \\\n",
              "0       330000.0       1     40     Luxemburgo  Belo Horizonte -19.936415   \n",
              "1       480000.0       2  45-65         Centro  Belo Horizonte -18.864776   \n",
              "2      1190000.0       4    411   Santa Amélia  Belo Horizonte -20.225241   \n",
              "3      1590000.0       4    158      Gutierrez  Belo Horizonte -19.937155   \n",
              "4       550000.0       3    278      Pindorama  Belo Horizonte -19.912982   \n",
              "\n",
              "   Longitude  \n",
              "0 -43.953396  \n",
              "1 -41.121777  \n",
              "2 -44.397780  \n",
              "3 -43.958694  \n",
              "4 -44.019944  "
            ],
            "text/html": [
              "\n",
              "  <div id=\"df-adf12dc2-5205-47a3-8ca7-9daf11173e6d\">\n",
              "    <div class=\"colab-df-container\">\n",
              "      <div>\n",
              "<style scoped>\n",
              "    .dataframe tbody tr th:only-of-type {\n",
              "        vertical-align: middle;\n",
              "    }\n",
              "\n",
              "    .dataframe tbody tr th {\n",
              "        vertical-align: top;\n",
              "    }\n",
              "\n",
              "    .dataframe thead th {\n",
              "        text-align: right;\n",
              "    }\n",
              "</style>\n",
              "<table border=\"1\" class=\"dataframe\">\n",
              "  <thead>\n",
              "    <tr style=\"text-align: right;\">\n",
              "      <th></th>\n",
              "      <th>Endereco</th>\n",
              "      <th>Valor_condominio</th>\n",
              "      <th>Vagas_garagem</th>\n",
              "      <th>Valor_aluguel</th>\n",
              "      <th>Quartos</th>\n",
              "      <th>m2</th>\n",
              "      <th>Bairro</th>\n",
              "      <th>Cidade</th>\n",
              "      <th>Latitude</th>\n",
              "      <th>Longitude</th>\n",
              "    </tr>\n",
              "  </thead>\n",
              "  <tbody>\n",
              "    <tr>\n",
              "      <th>0</th>\n",
              "      <td>Avenida Raja Gabaglia, 1583</td>\n",
              "      <td>470.0</td>\n",
              "      <td>1</td>\n",
              "      <td>330000.0</td>\n",
              "      <td>1</td>\n",
              "      <td>40</td>\n",
              "      <td>Luxemburgo</td>\n",
              "      <td>Belo Horizonte</td>\n",
              "      <td>-19.936415</td>\n",
              "      <td>-43.953396</td>\n",
              "    </tr>\n",
              "    <tr>\n",
              "      <th>1</th>\n",
              "      <td>Rua Espírito Santo, 1171</td>\n",
              "      <td>NaN</td>\n",
              "      <td>1</td>\n",
              "      <td>480000.0</td>\n",
              "      <td>2</td>\n",
              "      <td>45-65</td>\n",
              "      <td>Centro</td>\n",
              "      <td>Belo Horizonte</td>\n",
              "      <td>-18.864776</td>\n",
              "      <td>-41.121777</td>\n",
              "    </tr>\n",
              "    <tr>\n",
              "      <th>2</th>\n",
              "      <td>Rua dos Expedicionários, 1082</td>\n",
              "      <td>NaN</td>\n",
              "      <td>5</td>\n",
              "      <td>1190000.0</td>\n",
              "      <td>4</td>\n",
              "      <td>411</td>\n",
              "      <td>Santa Amélia</td>\n",
              "      <td>Belo Horizonte</td>\n",
              "      <td>-20.225241</td>\n",
              "      <td>-44.397780</td>\n",
              "    </tr>\n",
              "    <tr>\n",
              "      <th>3</th>\n",
              "      <td>Rua Marechal Hermes, 81</td>\n",
              "      <td>750.0</td>\n",
              "      <td>4</td>\n",
              "      <td>1590000.0</td>\n",
              "      <td>4</td>\n",
              "      <td>158</td>\n",
              "      <td>Gutierrez</td>\n",
              "      <td>Belo Horizonte</td>\n",
              "      <td>-19.937155</td>\n",
              "      <td>-43.958694</td>\n",
              "    </tr>\n",
              "    <tr>\n",
              "      <th>4</th>\n",
              "      <td>Rua Juruna, 110</td>\n",
              "      <td>NaN</td>\n",
              "      <td>6</td>\n",
              "      <td>550000.0</td>\n",
              "      <td>3</td>\n",
              "      <td>278</td>\n",
              "      <td>Pindorama</td>\n",
              "      <td>Belo Horizonte</td>\n",
              "      <td>-19.912982</td>\n",
              "      <td>-44.019944</td>\n",
              "    </tr>\n",
              "  </tbody>\n",
              "</table>\n",
              "</div>\n",
              "      <button class=\"colab-df-convert\" onclick=\"convertToInteractive('df-adf12dc2-5205-47a3-8ca7-9daf11173e6d')\"\n",
              "              title=\"Convert this dataframe to an interactive table.\"\n",
              "              style=\"display:none;\">\n",
              "        \n",
              "  <svg xmlns=\"http://www.w3.org/2000/svg\" height=\"24px\"viewBox=\"0 0 24 24\"\n",
              "       width=\"24px\">\n",
              "    <path d=\"M0 0h24v24H0V0z\" fill=\"none\"/>\n",
              "    <path d=\"M18.56 5.44l.94 2.06.94-2.06 2.06-.94-2.06-.94-.94-2.06-.94 2.06-2.06.94zm-11 1L8.5 8.5l.94-2.06 2.06-.94-2.06-.94L8.5 2.5l-.94 2.06-2.06.94zm10 10l.94 2.06.94-2.06 2.06-.94-2.06-.94-.94-2.06-.94 2.06-2.06.94z\"/><path d=\"M17.41 7.96l-1.37-1.37c-.4-.4-.92-.59-1.43-.59-.52 0-1.04.2-1.43.59L10.3 9.45l-7.72 7.72c-.78.78-.78 2.05 0 2.83L4 21.41c.39.39.9.59 1.41.59.51 0 1.02-.2 1.41-.59l7.78-7.78 2.81-2.81c.8-.78.8-2.07 0-2.86zM5.41 20L4 18.59l7.72-7.72 1.47 1.35L5.41 20z\"/>\n",
              "  </svg>\n",
              "      </button>\n",
              "      \n",
              "  <style>\n",
              "    .colab-df-container {\n",
              "      display:flex;\n",
              "      flex-wrap:wrap;\n",
              "      gap: 12px;\n",
              "    }\n",
              "\n",
              "    .colab-df-convert {\n",
              "      background-color: #E8F0FE;\n",
              "      border: none;\n",
              "      border-radius: 50%;\n",
              "      cursor: pointer;\n",
              "      display: none;\n",
              "      fill: #1967D2;\n",
              "      height: 32px;\n",
              "      padding: 0 0 0 0;\n",
              "      width: 32px;\n",
              "    }\n",
              "\n",
              "    .colab-df-convert:hover {\n",
              "      background-color: #E2EBFA;\n",
              "      box-shadow: 0px 1px 2px rgba(60, 64, 67, 0.3), 0px 1px 3px 1px rgba(60, 64, 67, 0.15);\n",
              "      fill: #174EA6;\n",
              "    }\n",
              "\n",
              "    [theme=dark] .colab-df-convert {\n",
              "      background-color: #3B4455;\n",
              "      fill: #D2E3FC;\n",
              "    }\n",
              "\n",
              "    [theme=dark] .colab-df-convert:hover {\n",
              "      background-color: #434B5C;\n",
              "      box-shadow: 0px 1px 3px 1px rgba(0, 0, 0, 0.15);\n",
              "      filter: drop-shadow(0px 1px 2px rgba(0, 0, 0, 0.3));\n",
              "      fill: #FFFFFF;\n",
              "    }\n",
              "  </style>\n",
              "\n",
              "      <script>\n",
              "        const buttonEl =\n",
              "          document.querySelector('#df-adf12dc2-5205-47a3-8ca7-9daf11173e6d button.colab-df-convert');\n",
              "        buttonEl.style.display =\n",
              "          google.colab.kernel.accessAllowed ? 'block' : 'none';\n",
              "\n",
              "        async function convertToInteractive(key) {\n",
              "          const element = document.querySelector('#df-adf12dc2-5205-47a3-8ca7-9daf11173e6d');\n",
              "          const dataTable =\n",
              "            await google.colab.kernel.invokeFunction('convertToInteractive',\n",
              "                                                     [key], {});\n",
              "          if (!dataTable) return;\n",
              "\n",
              "          const docLinkHtml = 'Like what you see? Visit the ' +\n",
              "            '<a target=\"_blank\" href=https://colab.research.google.com/notebooks/data_table.ipynb>data table notebook</a>'\n",
              "            + ' to learn more about interactive tables.';\n",
              "          element.innerHTML = '';\n",
              "          dataTable['output_type'] = 'display_data';\n",
              "          await google.colab.output.renderOutput(dataTable, element);\n",
              "          const docLink = document.createElement('div');\n",
              "          docLink.innerHTML = docLinkHtml;\n",
              "          element.appendChild(docLink);\n",
              "        }\n",
              "      </script>\n",
              "    </div>\n",
              "  </div>\n",
              "  "
            ]
          },
          "metadata": {},
          "execution_count": 369
        }
      ]
    },
    {
      "cell_type": "markdown",
      "source": [
        "## Valor dos condomínios"
      ],
      "metadata": {
        "id": "41Mt5uNkb7FI"
      }
    },
    {
      "cell_type": "markdown",
      "source": [
        "Imóveis sem condomínio estão com valor nulo, estes valores podem ser subtituídos por zero."
      ],
      "metadata": {
        "id": "cPwW1c37k8Aj"
      }
    },
    {
      "cell_type": "code",
      "source": [
        "data_alugueis[\"Valor_condominio\"].isna()"
      ],
      "metadata": {
        "colab": {
          "base_uri": "https://localhost:8080/"
        },
        "id": "dMOVQ-ITa88J",
        "outputId": "e294633a-afaa-43a3-de97-0253032cef2d"
      },
      "execution_count": 370,
      "outputs": [
        {
          "output_type": "execute_result",
          "data": {
            "text/plain": [
              "0       False\n",
              "1        True\n",
              "2        True\n",
              "3       False\n",
              "4        True\n",
              "        ...  \n",
              "5976    False\n",
              "5977    False\n",
              "5978    False\n",
              "5979    False\n",
              "5980     True\n",
              "Name: Valor_condominio, Length: 5949, dtype: bool"
            ]
          },
          "metadata": {},
          "execution_count": 370
        }
      ]
    },
    {
      "cell_type": "code",
      "source": [
        "data_alugueis[\"Valor_condominio\"].fillna(0, inplace = True)"
      ],
      "metadata": {
        "id": "K73On0Geci9c"
      },
      "execution_count": 371,
      "outputs": []
    },
    {
      "cell_type": "code",
      "source": [
        "data_alugueis.info()"
      ],
      "metadata": {
        "colab": {
          "base_uri": "https://localhost:8080/"
        },
        "id": "ZdR9qLxmc_-b",
        "outputId": "7f1bfcdd-551a-4515-9fbd-15b6149a529c"
      },
      "execution_count": 372,
      "outputs": [
        {
          "output_type": "stream",
          "name": "stdout",
          "text": [
            "<class 'pandas.core.frame.DataFrame'>\n",
            "Int64Index: 5949 entries, 0 to 5980\n",
            "Data columns (total 10 columns):\n",
            " #   Column            Non-Null Count  Dtype  \n",
            "---  ------            --------------  -----  \n",
            " 0   Endereco          5949 non-null   object \n",
            " 1   Valor_condominio  5949 non-null   float64\n",
            " 2   Vagas_garagem     5949 non-null   object \n",
            " 3   Valor_aluguel     5923 non-null   float64\n",
            " 4   Quartos           5949 non-null   object \n",
            " 5   m2                5949 non-null   object \n",
            " 6   Bairro            5925 non-null   object \n",
            " 7   Cidade            5949 non-null   object \n",
            " 8   Latitude          5949 non-null   float64\n",
            " 9   Longitude         5949 non-null   float64\n",
            "dtypes: float64(4), object(6)\n",
            "memory usage: 511.2+ KB\n"
          ]
        }
      ]
    },
    {
      "cell_type": "markdown",
      "source": [
        "## Vagas de garagem, Quartos e Metragem"
      ],
      "metadata": {
        "id": "jbt2kUfydvOg"
      }
    },
    {
      "cell_type": "markdown",
      "source": [
        "Algumas linhas possuem mais de um valor, no formato x-y. Vou usar apenas o primeiro valor,  preencher os \"em branco\" por zero e converter para inteiro."
      ],
      "metadata": {
        "id": "6JHuEF8XjKlw"
      }
    },
    {
      "cell_type": "code",
      "source": [
        "data_alugueis[\"Vagas_garagem\"].unique()"
      ],
      "metadata": {
        "colab": {
          "base_uri": "https://localhost:8080/"
        },
        "id": "UksPvK0OdDbb",
        "outputId": "338185d7-054a-4ea9-f995-8a1468e5146a"
      },
      "execution_count": 373,
      "outputs": [
        {
          "output_type": "execute_result",
          "data": {
            "text/plain": [
              "array(['1', '5', '4', '6', '2', '3', '2-3', '--', '1-2', '10', '13',\n",
              "       '3-4', '7', '2-4', '1-3', '8', '20', '9', '50', '18', '28', '12',\n",
              "       '15', '25', '40', '22', '11', '46', '19', '17'], dtype=object)"
            ]
          },
          "metadata": {},
          "execution_count": 373
        }
      ]
    },
    {
      "cell_type": "code",
      "source": [
        "data_alugueis[\"Vagas_garagem\"] = data_alugueis[\"Vagas_garagem\"].str.replace(\"--\", \"0\")\n",
        "data_alugueis[\"Quartos\"] = data_alugueis[\"Quartos\"].str.replace(\"--\", \"0\")\n",
        "data_alugueis[\"m2\"] = data_alugueis[\"m2\"].str.replace(\"--\", \"0\")"
      ],
      "metadata": {
        "id": "y63uaKp_kGJ6"
      },
      "execution_count": 374,
      "outputs": []
    },
    {
      "cell_type": "code",
      "source": [
        "data_alugueis[\"Vagas_garagem\"] = data_alugueis[\"Vagas_garagem\"].str.split(pat = \"-\", expand = True)[0]\n",
        "data_alugueis[\"Quartos\"] = data_alugueis[\"Quartos\"].str.split(pat = \"-\", expand = True)[0]\n",
        "data_alugueis[\"m2\"] = data_alugueis[\"m2\"].str.split(pat = \"-\", expand = True)[0]"
      ],
      "metadata": {
        "id": "fk96RAvTfuDc"
      },
      "execution_count": 375,
      "outputs": []
    },
    {
      "cell_type": "code",
      "source": [
        "data_alugueis[\"Vagas_garagem\"] = data_alugueis[\"Vagas_garagem\"].astype(int)\n",
        "data_alugueis[\"Quartos\"] = data_alugueis[\"Quartos\"].astype(int)\n",
        "data_alugueis[\"m2\"] = data_alugueis[\"m2\"].astype(float)"
      ],
      "metadata": {
        "id": "J9IWplfji8Q9"
      },
      "execution_count": 376,
      "outputs": []
    },
    {
      "cell_type": "code",
      "source": [
        "#data_alugueis[\"Vagas_garagem\"].unique()"
      ],
      "metadata": {
        "id": "vWgezn49jrgs"
      },
      "execution_count": 386,
      "outputs": []
    },
    {
      "cell_type": "code",
      "source": [
        "#data_alugueis[\"Quartos\"].unique()"
      ],
      "metadata": {
        "id": "RqrLS2oYqco6"
      },
      "execution_count": 387,
      "outputs": []
    },
    {
      "cell_type": "code",
      "source": [
        "#data_alugueis[\"m2\"].unique()"
      ],
      "metadata": {
        "id": "OabV89WrqdGy"
      },
      "execution_count": 388,
      "outputs": []
    },
    {
      "cell_type": "code",
      "source": [
        "data_alugueis.info()"
      ],
      "metadata": {
        "colab": {
          "base_uri": "https://localhost:8080/"
        },
        "id": "KjDc8hBBj-7k",
        "outputId": "1d45b2f6-162c-4bba-fe05-68594cdecff3"
      },
      "execution_count": 389,
      "outputs": [
        {
          "output_type": "stream",
          "name": "stdout",
          "text": [
            "<class 'pandas.core.frame.DataFrame'>\n",
            "Int64Index: 5899 entries, 0 to 5980\n",
            "Data columns (total 10 columns):\n",
            " #   Column            Non-Null Count  Dtype  \n",
            "---  ------            --------------  -----  \n",
            " 0   Endereco          5899 non-null   object \n",
            " 1   Valor_condominio  5899 non-null   float64\n",
            " 2   Vagas_garagem     5899 non-null   int64  \n",
            " 3   Valor_aluguel     5899 non-null   float64\n",
            " 4   Quartos           5899 non-null   int64  \n",
            " 5   m2                5899 non-null   float64\n",
            " 6   Bairro            5899 non-null   object \n",
            " 7   Cidade            5899 non-null   object \n",
            " 8   Latitude          5899 non-null   float64\n",
            " 9   Longitude         5899 non-null   float64\n",
            "dtypes: float64(5), int64(2), object(3)\n",
            "memory usage: 506.9+ KB\n"
          ]
        }
      ]
    },
    {
      "cell_type": "markdown",
      "source": [
        "## Remoção de Valores de aluguel e Bairros nulos"
      ],
      "metadata": {
        "id": "E0NRMLwZn1Md"
      }
    },
    {
      "cell_type": "code",
      "source": [
        "data_alugueis[data_alugueis[\"Valor_aluguel\"].isnull()].shape[0]"
      ],
      "metadata": {
        "colab": {
          "base_uri": "https://localhost:8080/"
        },
        "id": "WTeWB-Gikqg1",
        "outputId": "fef65a1c-e8d6-4f27-8017-f33fbac2a297"
      },
      "execution_count": 381,
      "outputs": [
        {
          "output_type": "execute_result",
          "data": {
            "text/plain": [
              "26"
            ]
          },
          "metadata": {},
          "execution_count": 381
        }
      ]
    },
    {
      "cell_type": "code",
      "source": [
        "data_alugueis[data_alugueis[\"Bairro\"].isnull()].shape[0]"
      ],
      "metadata": {
        "colab": {
          "base_uri": "https://localhost:8080/"
        },
        "id": "jMQD4KLmoIGF",
        "outputId": "9d43836f-9c09-4bdd-b621-625df638c1ed"
      },
      "execution_count": 382,
      "outputs": [
        {
          "output_type": "execute_result",
          "data": {
            "text/plain": [
              "24"
            ]
          },
          "metadata": {},
          "execution_count": 382
        }
      ]
    },
    {
      "cell_type": "code",
      "source": [
        "data_alugueis.dropna(inplace = True)"
      ],
      "metadata": {
        "id": "pTxui3RUogDk"
      },
      "execution_count": 383,
      "outputs": []
    },
    {
      "cell_type": "code",
      "source": [
        "data_alugueis.info()"
      ],
      "metadata": {
        "colab": {
          "base_uri": "https://localhost:8080/"
        },
        "id": "WOVAhbyao8V9",
        "outputId": "5ced4310-0484-44f1-a42f-42ff64d9555e"
      },
      "execution_count": 384,
      "outputs": [
        {
          "output_type": "stream",
          "name": "stdout",
          "text": [
            "<class 'pandas.core.frame.DataFrame'>\n",
            "Int64Index: 5899 entries, 0 to 5980\n",
            "Data columns (total 10 columns):\n",
            " #   Column            Non-Null Count  Dtype  \n",
            "---  ------            --------------  -----  \n",
            " 0   Endereco          5899 non-null   object \n",
            " 1   Valor_condominio  5899 non-null   float64\n",
            " 2   Vagas_garagem     5899 non-null   int64  \n",
            " 3   Valor_aluguel     5899 non-null   float64\n",
            " 4   Quartos           5899 non-null   int64  \n",
            " 5   m2                5899 non-null   float64\n",
            " 6   Bairro            5899 non-null   object \n",
            " 7   Cidade            5899 non-null   object \n",
            " 8   Latitude          5899 non-null   float64\n",
            " 9   Longitude         5899 non-null   float64\n",
            "dtypes: float64(5), int64(2), object(3)\n",
            "memory usage: 506.9+ KB\n"
          ]
        }
      ]
    },
    {
      "cell_type": "code",
      "source": [
        "data_alugueis.head()"
      ],
      "metadata": {
        "colab": {
          "base_uri": "https://localhost:8080/",
          "height": 206
        },
        "id": "zc0h1JRhp0bW",
        "outputId": "ca21dbc4-ec20-4934-e3c6-e198da92fb44"
      },
      "execution_count": 385,
      "outputs": [
        {
          "output_type": "execute_result",
          "data": {
            "text/plain": [
              "                         Endereco  Valor_condominio  Vagas_garagem  \\\n",
              "0    Avenida Raja Gabaglia, 1583              470.0              1   \n",
              "1       Rua Espírito Santo, 1171                0.0              1   \n",
              "2  Rua dos Expedicionários, 1082                0.0              5   \n",
              "3        Rua Marechal Hermes, 81              750.0              4   \n",
              "4                Rua Juruna, 110                0.0              6   \n",
              "\n",
              "   Valor_aluguel  Quartos     m2         Bairro          Cidade   Latitude  \\\n",
              "0       330000.0        1   40.0     Luxemburgo  Belo Horizonte -19.936415   \n",
              "1       480000.0        2   45.0         Centro  Belo Horizonte -18.864776   \n",
              "2      1190000.0        4  411.0   Santa Amélia  Belo Horizonte -20.225241   \n",
              "3      1590000.0        4  158.0      Gutierrez  Belo Horizonte -19.937155   \n",
              "4       550000.0        3  278.0      Pindorama  Belo Horizonte -19.912982   \n",
              "\n",
              "   Longitude  \n",
              "0 -43.953396  \n",
              "1 -41.121777  \n",
              "2 -44.397780  \n",
              "3 -43.958694  \n",
              "4 -44.019944  "
            ],
            "text/html": [
              "\n",
              "  <div id=\"df-dd8de986-e071-409a-aa72-8c6fe21b28ec\">\n",
              "    <div class=\"colab-df-container\">\n",
              "      <div>\n",
              "<style scoped>\n",
              "    .dataframe tbody tr th:only-of-type {\n",
              "        vertical-align: middle;\n",
              "    }\n",
              "\n",
              "    .dataframe tbody tr th {\n",
              "        vertical-align: top;\n",
              "    }\n",
              "\n",
              "    .dataframe thead th {\n",
              "        text-align: right;\n",
              "    }\n",
              "</style>\n",
              "<table border=\"1\" class=\"dataframe\">\n",
              "  <thead>\n",
              "    <tr style=\"text-align: right;\">\n",
              "      <th></th>\n",
              "      <th>Endereco</th>\n",
              "      <th>Valor_condominio</th>\n",
              "      <th>Vagas_garagem</th>\n",
              "      <th>Valor_aluguel</th>\n",
              "      <th>Quartos</th>\n",
              "      <th>m2</th>\n",
              "      <th>Bairro</th>\n",
              "      <th>Cidade</th>\n",
              "      <th>Latitude</th>\n",
              "      <th>Longitude</th>\n",
              "    </tr>\n",
              "  </thead>\n",
              "  <tbody>\n",
              "    <tr>\n",
              "      <th>0</th>\n",
              "      <td>Avenida Raja Gabaglia, 1583</td>\n",
              "      <td>470.0</td>\n",
              "      <td>1</td>\n",
              "      <td>330000.0</td>\n",
              "      <td>1</td>\n",
              "      <td>40.0</td>\n",
              "      <td>Luxemburgo</td>\n",
              "      <td>Belo Horizonte</td>\n",
              "      <td>-19.936415</td>\n",
              "      <td>-43.953396</td>\n",
              "    </tr>\n",
              "    <tr>\n",
              "      <th>1</th>\n",
              "      <td>Rua Espírito Santo, 1171</td>\n",
              "      <td>0.0</td>\n",
              "      <td>1</td>\n",
              "      <td>480000.0</td>\n",
              "      <td>2</td>\n",
              "      <td>45.0</td>\n",
              "      <td>Centro</td>\n",
              "      <td>Belo Horizonte</td>\n",
              "      <td>-18.864776</td>\n",
              "      <td>-41.121777</td>\n",
              "    </tr>\n",
              "    <tr>\n",
              "      <th>2</th>\n",
              "      <td>Rua dos Expedicionários, 1082</td>\n",
              "      <td>0.0</td>\n",
              "      <td>5</td>\n",
              "      <td>1190000.0</td>\n",
              "      <td>4</td>\n",
              "      <td>411.0</td>\n",
              "      <td>Santa Amélia</td>\n",
              "      <td>Belo Horizonte</td>\n",
              "      <td>-20.225241</td>\n",
              "      <td>-44.397780</td>\n",
              "    </tr>\n",
              "    <tr>\n",
              "      <th>3</th>\n",
              "      <td>Rua Marechal Hermes, 81</td>\n",
              "      <td>750.0</td>\n",
              "      <td>4</td>\n",
              "      <td>1590000.0</td>\n",
              "      <td>4</td>\n",
              "      <td>158.0</td>\n",
              "      <td>Gutierrez</td>\n",
              "      <td>Belo Horizonte</td>\n",
              "      <td>-19.937155</td>\n",
              "      <td>-43.958694</td>\n",
              "    </tr>\n",
              "    <tr>\n",
              "      <th>4</th>\n",
              "      <td>Rua Juruna, 110</td>\n",
              "      <td>0.0</td>\n",
              "      <td>6</td>\n",
              "      <td>550000.0</td>\n",
              "      <td>3</td>\n",
              "      <td>278.0</td>\n",
              "      <td>Pindorama</td>\n",
              "      <td>Belo Horizonte</td>\n",
              "      <td>-19.912982</td>\n",
              "      <td>-44.019944</td>\n",
              "    </tr>\n",
              "  </tbody>\n",
              "</table>\n",
              "</div>\n",
              "      <button class=\"colab-df-convert\" onclick=\"convertToInteractive('df-dd8de986-e071-409a-aa72-8c6fe21b28ec')\"\n",
              "              title=\"Convert this dataframe to an interactive table.\"\n",
              "              style=\"display:none;\">\n",
              "        \n",
              "  <svg xmlns=\"http://www.w3.org/2000/svg\" height=\"24px\"viewBox=\"0 0 24 24\"\n",
              "       width=\"24px\">\n",
              "    <path d=\"M0 0h24v24H0V0z\" fill=\"none\"/>\n",
              "    <path d=\"M18.56 5.44l.94 2.06.94-2.06 2.06-.94-2.06-.94-.94-2.06-.94 2.06-2.06.94zm-11 1L8.5 8.5l.94-2.06 2.06-.94-2.06-.94L8.5 2.5l-.94 2.06-2.06.94zm10 10l.94 2.06.94-2.06 2.06-.94-2.06-.94-.94-2.06-.94 2.06-2.06.94z\"/><path d=\"M17.41 7.96l-1.37-1.37c-.4-.4-.92-.59-1.43-.59-.52 0-1.04.2-1.43.59L10.3 9.45l-7.72 7.72c-.78.78-.78 2.05 0 2.83L4 21.41c.39.39.9.59 1.41.59.51 0 1.02-.2 1.41-.59l7.78-7.78 2.81-2.81c.8-.78.8-2.07 0-2.86zM5.41 20L4 18.59l7.72-7.72 1.47 1.35L5.41 20z\"/>\n",
              "  </svg>\n",
              "      </button>\n",
              "      \n",
              "  <style>\n",
              "    .colab-df-container {\n",
              "      display:flex;\n",
              "      flex-wrap:wrap;\n",
              "      gap: 12px;\n",
              "    }\n",
              "\n",
              "    .colab-df-convert {\n",
              "      background-color: #E8F0FE;\n",
              "      border: none;\n",
              "      border-radius: 50%;\n",
              "      cursor: pointer;\n",
              "      display: none;\n",
              "      fill: #1967D2;\n",
              "      height: 32px;\n",
              "      padding: 0 0 0 0;\n",
              "      width: 32px;\n",
              "    }\n",
              "\n",
              "    .colab-df-convert:hover {\n",
              "      background-color: #E2EBFA;\n",
              "      box-shadow: 0px 1px 2px rgba(60, 64, 67, 0.3), 0px 1px 3px 1px rgba(60, 64, 67, 0.15);\n",
              "      fill: #174EA6;\n",
              "    }\n",
              "\n",
              "    [theme=dark] .colab-df-convert {\n",
              "      background-color: #3B4455;\n",
              "      fill: #D2E3FC;\n",
              "    }\n",
              "\n",
              "    [theme=dark] .colab-df-convert:hover {\n",
              "      background-color: #434B5C;\n",
              "      box-shadow: 0px 1px 3px 1px rgba(0, 0, 0, 0.15);\n",
              "      filter: drop-shadow(0px 1px 2px rgba(0, 0, 0, 0.3));\n",
              "      fill: #FFFFFF;\n",
              "    }\n",
              "  </style>\n",
              "\n",
              "      <script>\n",
              "        const buttonEl =\n",
              "          document.querySelector('#df-dd8de986-e071-409a-aa72-8c6fe21b28ec button.colab-df-convert');\n",
              "        buttonEl.style.display =\n",
              "          google.colab.kernel.accessAllowed ? 'block' : 'none';\n",
              "\n",
              "        async function convertToInteractive(key) {\n",
              "          const element = document.querySelector('#df-dd8de986-e071-409a-aa72-8c6fe21b28ec');\n",
              "          const dataTable =\n",
              "            await google.colab.kernel.invokeFunction('convertToInteractive',\n",
              "                                                     [key], {});\n",
              "          if (!dataTable) return;\n",
              "\n",
              "          const docLinkHtml = 'Like what you see? Visit the ' +\n",
              "            '<a target=\"_blank\" href=https://colab.research.google.com/notebooks/data_table.ipynb>data table notebook</a>'\n",
              "            + ' to learn more about interactive tables.';\n",
              "          element.innerHTML = '';\n",
              "          dataTable['output_type'] = 'display_data';\n",
              "          await google.colab.output.renderOutput(dataTable, element);\n",
              "          const docLink = document.createElement('div');\n",
              "          docLink.innerHTML = docLinkHtml;\n",
              "          element.appendChild(docLink);\n",
              "        }\n",
              "      </script>\n",
              "    </div>\n",
              "  </div>\n",
              "  "
            ]
          },
          "metadata": {},
          "execution_count": 385
        }
      ]
    },
    {
      "cell_type": "markdown",
      "source": [
        "## Separação de Rua e Número"
      ],
      "metadata": {
        "id": "vc54KCu3vhqD"
      }
    },
    {
      "cell_type": "code",
      "source": [
        "rua_numero = data_alugueis[\"Endereco\"].str.split(pat = \", \", expand = True)\n",
        "rua_numero[0].isnull().value_counts()"
      ],
      "metadata": {
        "colab": {
          "base_uri": "https://localhost:8080/"
        },
        "id": "yg6J3nKerwV-",
        "outputId": "36f27f40-820d-4a4c-af59-7fbdc097ebb6"
      },
      "execution_count": 397,
      "outputs": [
        {
          "output_type": "execute_result",
          "data": {
            "text/plain": [
              "False    5899\n",
              "Name: 0, dtype: int64"
            ]
          },
          "metadata": {},
          "execution_count": 397
        }
      ]
    },
    {
      "cell_type": "code",
      "source": [
        "data_alugueis[\"Rua\"] = data_alugueis[\"Endereco\"].str.split(pat = \", \", expand = True)[0]\n",
        "data_alugueis[\"Numero\"] = data_alugueis[\"Endereco\"].str.split(pat = \", \", expand = True)[1]\n",
        "data_alugueis.head()"
      ],
      "metadata": {
        "colab": {
          "base_uri": "https://localhost:8080/",
          "height": 206
        },
        "id": "H1gYhbsBv4lH",
        "outputId": "e77c9cfa-5115-4e27-ff39-8cdbf95c4ec0"
      },
      "execution_count": 399,
      "outputs": [
        {
          "output_type": "execute_result",
          "data": {
            "text/plain": [
              "                         Endereco  Valor_condominio  Vagas_garagem  \\\n",
              "0    Avenida Raja Gabaglia, 1583              470.0              1   \n",
              "1       Rua Espírito Santo, 1171                0.0              1   \n",
              "2  Rua dos Expedicionários, 1082                0.0              5   \n",
              "3        Rua Marechal Hermes, 81              750.0              4   \n",
              "4                Rua Juruna, 110                0.0              6   \n",
              "\n",
              "   Valor_aluguel  Quartos     m2         Bairro          Cidade   Latitude  \\\n",
              "0       330000.0        1   40.0     Luxemburgo  Belo Horizonte -19.936415   \n",
              "1       480000.0        2   45.0         Centro  Belo Horizonte -18.864776   \n",
              "2      1190000.0        4  411.0   Santa Amélia  Belo Horizonte -20.225241   \n",
              "3      1590000.0        4  158.0      Gutierrez  Belo Horizonte -19.937155   \n",
              "4       550000.0        3  278.0      Pindorama  Belo Horizonte -19.912982   \n",
              "\n",
              "   Longitude                      Rua Numero  \n",
              "0 -43.953396    Avenida Raja Gabaglia  1583   \n",
              "1 -41.121777       Rua Espírito Santo  1171   \n",
              "2 -44.397780  Rua dos Expedicionários  1082   \n",
              "3 -43.958694      Rua Marechal Hermes    81   \n",
              "4 -44.019944               Rua Juruna   110   "
            ],
            "text/html": [
              "\n",
              "  <div id=\"df-8fccfc28-96e7-40ad-85f2-cd1af0b4472b\">\n",
              "    <div class=\"colab-df-container\">\n",
              "      <div>\n",
              "<style scoped>\n",
              "    .dataframe tbody tr th:only-of-type {\n",
              "        vertical-align: middle;\n",
              "    }\n",
              "\n",
              "    .dataframe tbody tr th {\n",
              "        vertical-align: top;\n",
              "    }\n",
              "\n",
              "    .dataframe thead th {\n",
              "        text-align: right;\n",
              "    }\n",
              "</style>\n",
              "<table border=\"1\" class=\"dataframe\">\n",
              "  <thead>\n",
              "    <tr style=\"text-align: right;\">\n",
              "      <th></th>\n",
              "      <th>Endereco</th>\n",
              "      <th>Valor_condominio</th>\n",
              "      <th>Vagas_garagem</th>\n",
              "      <th>Valor_aluguel</th>\n",
              "      <th>Quartos</th>\n",
              "      <th>m2</th>\n",
              "      <th>Bairro</th>\n",
              "      <th>Cidade</th>\n",
              "      <th>Latitude</th>\n",
              "      <th>Longitude</th>\n",
              "      <th>Rua</th>\n",
              "      <th>Numero</th>\n",
              "    </tr>\n",
              "  </thead>\n",
              "  <tbody>\n",
              "    <tr>\n",
              "      <th>0</th>\n",
              "      <td>Avenida Raja Gabaglia, 1583</td>\n",
              "      <td>470.0</td>\n",
              "      <td>1</td>\n",
              "      <td>330000.0</td>\n",
              "      <td>1</td>\n",
              "      <td>40.0</td>\n",
              "      <td>Luxemburgo</td>\n",
              "      <td>Belo Horizonte</td>\n",
              "      <td>-19.936415</td>\n",
              "      <td>-43.953396</td>\n",
              "      <td>Avenida Raja Gabaglia</td>\n",
              "      <td>1583</td>\n",
              "    </tr>\n",
              "    <tr>\n",
              "      <th>1</th>\n",
              "      <td>Rua Espírito Santo, 1171</td>\n",
              "      <td>0.0</td>\n",
              "      <td>1</td>\n",
              "      <td>480000.0</td>\n",
              "      <td>2</td>\n",
              "      <td>45.0</td>\n",
              "      <td>Centro</td>\n",
              "      <td>Belo Horizonte</td>\n",
              "      <td>-18.864776</td>\n",
              "      <td>-41.121777</td>\n",
              "      <td>Rua Espírito Santo</td>\n",
              "      <td>1171</td>\n",
              "    </tr>\n",
              "    <tr>\n",
              "      <th>2</th>\n",
              "      <td>Rua dos Expedicionários, 1082</td>\n",
              "      <td>0.0</td>\n",
              "      <td>5</td>\n",
              "      <td>1190000.0</td>\n",
              "      <td>4</td>\n",
              "      <td>411.0</td>\n",
              "      <td>Santa Amélia</td>\n",
              "      <td>Belo Horizonte</td>\n",
              "      <td>-20.225241</td>\n",
              "      <td>-44.397780</td>\n",
              "      <td>Rua dos Expedicionários</td>\n",
              "      <td>1082</td>\n",
              "    </tr>\n",
              "    <tr>\n",
              "      <th>3</th>\n",
              "      <td>Rua Marechal Hermes, 81</td>\n",
              "      <td>750.0</td>\n",
              "      <td>4</td>\n",
              "      <td>1590000.0</td>\n",
              "      <td>4</td>\n",
              "      <td>158.0</td>\n",
              "      <td>Gutierrez</td>\n",
              "      <td>Belo Horizonte</td>\n",
              "      <td>-19.937155</td>\n",
              "      <td>-43.958694</td>\n",
              "      <td>Rua Marechal Hermes</td>\n",
              "      <td>81</td>\n",
              "    </tr>\n",
              "    <tr>\n",
              "      <th>4</th>\n",
              "      <td>Rua Juruna, 110</td>\n",
              "      <td>0.0</td>\n",
              "      <td>6</td>\n",
              "      <td>550000.0</td>\n",
              "      <td>3</td>\n",
              "      <td>278.0</td>\n",
              "      <td>Pindorama</td>\n",
              "      <td>Belo Horizonte</td>\n",
              "      <td>-19.912982</td>\n",
              "      <td>-44.019944</td>\n",
              "      <td>Rua Juruna</td>\n",
              "      <td>110</td>\n",
              "    </tr>\n",
              "  </tbody>\n",
              "</table>\n",
              "</div>\n",
              "      <button class=\"colab-df-convert\" onclick=\"convertToInteractive('df-8fccfc28-96e7-40ad-85f2-cd1af0b4472b')\"\n",
              "              title=\"Convert this dataframe to an interactive table.\"\n",
              "              style=\"display:none;\">\n",
              "        \n",
              "  <svg xmlns=\"http://www.w3.org/2000/svg\" height=\"24px\"viewBox=\"0 0 24 24\"\n",
              "       width=\"24px\">\n",
              "    <path d=\"M0 0h24v24H0V0z\" fill=\"none\"/>\n",
              "    <path d=\"M18.56 5.44l.94 2.06.94-2.06 2.06-.94-2.06-.94-.94-2.06-.94 2.06-2.06.94zm-11 1L8.5 8.5l.94-2.06 2.06-.94-2.06-.94L8.5 2.5l-.94 2.06-2.06.94zm10 10l.94 2.06.94-2.06 2.06-.94-2.06-.94-.94-2.06-.94 2.06-2.06.94z\"/><path d=\"M17.41 7.96l-1.37-1.37c-.4-.4-.92-.59-1.43-.59-.52 0-1.04.2-1.43.59L10.3 9.45l-7.72 7.72c-.78.78-.78 2.05 0 2.83L4 21.41c.39.39.9.59 1.41.59.51 0 1.02-.2 1.41-.59l7.78-7.78 2.81-2.81c.8-.78.8-2.07 0-2.86zM5.41 20L4 18.59l7.72-7.72 1.47 1.35L5.41 20z\"/>\n",
              "  </svg>\n",
              "      </button>\n",
              "      \n",
              "  <style>\n",
              "    .colab-df-container {\n",
              "      display:flex;\n",
              "      flex-wrap:wrap;\n",
              "      gap: 12px;\n",
              "    }\n",
              "\n",
              "    .colab-df-convert {\n",
              "      background-color: #E8F0FE;\n",
              "      border: none;\n",
              "      border-radius: 50%;\n",
              "      cursor: pointer;\n",
              "      display: none;\n",
              "      fill: #1967D2;\n",
              "      height: 32px;\n",
              "      padding: 0 0 0 0;\n",
              "      width: 32px;\n",
              "    }\n",
              "\n",
              "    .colab-df-convert:hover {\n",
              "      background-color: #E2EBFA;\n",
              "      box-shadow: 0px 1px 2px rgba(60, 64, 67, 0.3), 0px 1px 3px 1px rgba(60, 64, 67, 0.15);\n",
              "      fill: #174EA6;\n",
              "    }\n",
              "\n",
              "    [theme=dark] .colab-df-convert {\n",
              "      background-color: #3B4455;\n",
              "      fill: #D2E3FC;\n",
              "    }\n",
              "\n",
              "    [theme=dark] .colab-df-convert:hover {\n",
              "      background-color: #434B5C;\n",
              "      box-shadow: 0px 1px 3px 1px rgba(0, 0, 0, 0.15);\n",
              "      filter: drop-shadow(0px 1px 2px rgba(0, 0, 0, 0.3));\n",
              "      fill: #FFFFFF;\n",
              "    }\n",
              "  </style>\n",
              "\n",
              "      <script>\n",
              "        const buttonEl =\n",
              "          document.querySelector('#df-8fccfc28-96e7-40ad-85f2-cd1af0b4472b button.colab-df-convert');\n",
              "        buttonEl.style.display =\n",
              "          google.colab.kernel.accessAllowed ? 'block' : 'none';\n",
              "\n",
              "        async function convertToInteractive(key) {\n",
              "          const element = document.querySelector('#df-8fccfc28-96e7-40ad-85f2-cd1af0b4472b');\n",
              "          const dataTable =\n",
              "            await google.colab.kernel.invokeFunction('convertToInteractive',\n",
              "                                                     [key], {});\n",
              "          if (!dataTable) return;\n",
              "\n",
              "          const docLinkHtml = 'Like what you see? Visit the ' +\n",
              "            '<a target=\"_blank\" href=https://colab.research.google.com/notebooks/data_table.ipynb>data table notebook</a>'\n",
              "            + ' to learn more about interactive tables.';\n",
              "          element.innerHTML = '';\n",
              "          dataTable['output_type'] = 'display_data';\n",
              "          await google.colab.output.renderOutput(dataTable, element);\n",
              "          const docLink = document.createElement('div');\n",
              "          docLink.innerHTML = docLinkHtml;\n",
              "          element.appendChild(docLink);\n",
              "        }\n",
              "      </script>\n",
              "    </div>\n",
              "  </div>\n",
              "  "
            ]
          },
          "metadata": {},
          "execution_count": 399
        }
      ]
    },
    {
      "cell_type": "code",
      "source": [
        "data_alugueis.info()"
      ],
      "metadata": {
        "colab": {
          "base_uri": "https://localhost:8080/"
        },
        "id": "eXdEhjM2wtf3",
        "outputId": "c5320287-2e1a-438a-b275-22c54a35b3bc"
      },
      "execution_count": 400,
      "outputs": [
        {
          "output_type": "stream",
          "name": "stdout",
          "text": [
            "<class 'pandas.core.frame.DataFrame'>\n",
            "Int64Index: 5899 entries, 0 to 5980\n",
            "Data columns (total 12 columns):\n",
            " #   Column            Non-Null Count  Dtype  \n",
            "---  ------            --------------  -----  \n",
            " 0   Endereco          5899 non-null   object \n",
            " 1   Valor_condominio  5899 non-null   float64\n",
            " 2   Vagas_garagem     5899 non-null   int64  \n",
            " 3   Valor_aluguel     5899 non-null   float64\n",
            " 4   Quartos           5899 non-null   int64  \n",
            " 5   m2                5899 non-null   float64\n",
            " 6   Bairro            5899 non-null   object \n",
            " 7   Cidade            5899 non-null   object \n",
            " 8   Latitude          5899 non-null   float64\n",
            " 9   Longitude         5899 non-null   float64\n",
            " 10  Rua               5899 non-null   object \n",
            " 11  Numero            2479 non-null   object \n",
            "dtypes: float64(5), int64(2), object(5)\n",
            "memory usage: 599.1+ KB\n"
          ]
        }
      ]
    },
    {
      "cell_type": "code",
      "source": [
        ""
      ],
      "metadata": {
        "id": "_AxvI161w1sW"
      },
      "execution_count": null,
      "outputs": []
    }
  ]
}
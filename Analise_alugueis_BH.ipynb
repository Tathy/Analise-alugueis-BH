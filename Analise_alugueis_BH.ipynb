{
  "nbformat": 4,
  "nbformat_minor": 0,
  "metadata": {
    "colab": {
      "name": "Analise-alugueis-BH.ipynb",
      "provenance": []
    },
    "kernelspec": {
      "name": "python3",
      "display_name": "Python 3"
    },
    "language_info": {
      "name": "python"
    }
  },
  "cells": [
    {
      "cell_type": "markdown",
      "source": [
        "# Preços de aluguéis em Belo Horizonte"
      ],
      "metadata": {
        "id": "oYaGhB-uRvgb"
      }
    },
    {
      "cell_type": "markdown",
      "source": [
        "Fonte: https://www.kaggle.com/datasets/guilherme26/house-pricing-in-belo-horizonte"
      ],
      "metadata": {
        "id": "AQUjlYCXR34z"
      }
    },
    {
      "cell_type": "code",
      "source": [
        "import pandas as pd\n",
        "import seaborn as sns\n",
        "import matplotlib.pyplot as plt\n",
        "import matplotlib as mpl"
      ],
      "metadata": {
        "id": "xbg1AyvkbFmy"
      },
      "execution_count": 134,
      "outputs": []
    },
    {
      "cell_type": "code",
      "execution_count": 34,
      "metadata": {
        "id": "6FFXVmc7Rk8u"
      },
      "outputs": [],
      "source": [
        "data_alugueis = pd.read_csv(\"/content/drive/MyDrive/Projetos/Aluguéis em Belo Horizonte/data.csv\")"
      ]
    },
    {
      "cell_type": "code",
      "source": [
        "data_alugueis.head()"
      ],
      "metadata": {
        "colab": {
          "base_uri": "https://localhost:8080/",
          "height": 206
        },
        "id": "We-nFFDoSWN6",
        "outputId": "c8763b24-ab05-4794-ae25-334d2d1d6bfa"
      },
      "execution_count": 35,
      "outputs": [
        {
          "output_type": "execute_result",
          "data": {
            "text/plain": [
              "                          address  adm-fees garage-places      price rooms  \\\n",
              "0    Avenida Raja Gabaglia, 1583      470.0             1   330000.0     1   \n",
              "1       Rua Espírito Santo, 1171        NaN             1   480000.0     2   \n",
              "2  Rua dos Expedicionários, 1082        NaN             5  1190000.0     4   \n",
              "3        Rua Marechal Hermes, 81      750.0             4  1590000.0     4   \n",
              "4                Rua Juruna, 110        NaN             6   550000.0     3   \n",
              "\n",
              "  square-foot   neighborhood              city   latitude  longitude  \n",
              "0          40     Luxemburgo   Belo Horizonte  -19.936415 -43.953396  \n",
              "1       45-65         Centro   Belo Horizonte  -18.864776 -41.121777  \n",
              "2         411   Santa Amélia   Belo Horizonte  -20.225241 -44.397780  \n",
              "3         158      Gutierrez   Belo Horizonte  -19.937155 -43.958694  \n",
              "4         278      Pindorama   Belo Horizonte  -19.912982 -44.019944  "
            ],
            "text/html": [
              "\n",
              "  <div id=\"df-0e933bf4-0af8-4a1f-80f2-f6260c8c906e\">\n",
              "    <div class=\"colab-df-container\">\n",
              "      <div>\n",
              "<style scoped>\n",
              "    .dataframe tbody tr th:only-of-type {\n",
              "        vertical-align: middle;\n",
              "    }\n",
              "\n",
              "    .dataframe tbody tr th {\n",
              "        vertical-align: top;\n",
              "    }\n",
              "\n",
              "    .dataframe thead th {\n",
              "        text-align: right;\n",
              "    }\n",
              "</style>\n",
              "<table border=\"1\" class=\"dataframe\">\n",
              "  <thead>\n",
              "    <tr style=\"text-align: right;\">\n",
              "      <th></th>\n",
              "      <th>address</th>\n",
              "      <th>adm-fees</th>\n",
              "      <th>garage-places</th>\n",
              "      <th>price</th>\n",
              "      <th>rooms</th>\n",
              "      <th>square-foot</th>\n",
              "      <th>neighborhood</th>\n",
              "      <th>city</th>\n",
              "      <th>latitude</th>\n",
              "      <th>longitude</th>\n",
              "    </tr>\n",
              "  </thead>\n",
              "  <tbody>\n",
              "    <tr>\n",
              "      <th>0</th>\n",
              "      <td>Avenida Raja Gabaglia, 1583</td>\n",
              "      <td>470.0</td>\n",
              "      <td>1</td>\n",
              "      <td>330000.0</td>\n",
              "      <td>1</td>\n",
              "      <td>40</td>\n",
              "      <td>Luxemburgo</td>\n",
              "      <td>Belo Horizonte</td>\n",
              "      <td>-19.936415</td>\n",
              "      <td>-43.953396</td>\n",
              "    </tr>\n",
              "    <tr>\n",
              "      <th>1</th>\n",
              "      <td>Rua Espírito Santo, 1171</td>\n",
              "      <td>NaN</td>\n",
              "      <td>1</td>\n",
              "      <td>480000.0</td>\n",
              "      <td>2</td>\n",
              "      <td>45-65</td>\n",
              "      <td>Centro</td>\n",
              "      <td>Belo Horizonte</td>\n",
              "      <td>-18.864776</td>\n",
              "      <td>-41.121777</td>\n",
              "    </tr>\n",
              "    <tr>\n",
              "      <th>2</th>\n",
              "      <td>Rua dos Expedicionários, 1082</td>\n",
              "      <td>NaN</td>\n",
              "      <td>5</td>\n",
              "      <td>1190000.0</td>\n",
              "      <td>4</td>\n",
              "      <td>411</td>\n",
              "      <td>Santa Amélia</td>\n",
              "      <td>Belo Horizonte</td>\n",
              "      <td>-20.225241</td>\n",
              "      <td>-44.397780</td>\n",
              "    </tr>\n",
              "    <tr>\n",
              "      <th>3</th>\n",
              "      <td>Rua Marechal Hermes, 81</td>\n",
              "      <td>750.0</td>\n",
              "      <td>4</td>\n",
              "      <td>1590000.0</td>\n",
              "      <td>4</td>\n",
              "      <td>158</td>\n",
              "      <td>Gutierrez</td>\n",
              "      <td>Belo Horizonte</td>\n",
              "      <td>-19.937155</td>\n",
              "      <td>-43.958694</td>\n",
              "    </tr>\n",
              "    <tr>\n",
              "      <th>4</th>\n",
              "      <td>Rua Juruna, 110</td>\n",
              "      <td>NaN</td>\n",
              "      <td>6</td>\n",
              "      <td>550000.0</td>\n",
              "      <td>3</td>\n",
              "      <td>278</td>\n",
              "      <td>Pindorama</td>\n",
              "      <td>Belo Horizonte</td>\n",
              "      <td>-19.912982</td>\n",
              "      <td>-44.019944</td>\n",
              "    </tr>\n",
              "  </tbody>\n",
              "</table>\n",
              "</div>\n",
              "      <button class=\"colab-df-convert\" onclick=\"convertToInteractive('df-0e933bf4-0af8-4a1f-80f2-f6260c8c906e')\"\n",
              "              title=\"Convert this dataframe to an interactive table.\"\n",
              "              style=\"display:none;\">\n",
              "        \n",
              "  <svg xmlns=\"http://www.w3.org/2000/svg\" height=\"24px\"viewBox=\"0 0 24 24\"\n",
              "       width=\"24px\">\n",
              "    <path d=\"M0 0h24v24H0V0z\" fill=\"none\"/>\n",
              "    <path d=\"M18.56 5.44l.94 2.06.94-2.06 2.06-.94-2.06-.94-.94-2.06-.94 2.06-2.06.94zm-11 1L8.5 8.5l.94-2.06 2.06-.94-2.06-.94L8.5 2.5l-.94 2.06-2.06.94zm10 10l.94 2.06.94-2.06 2.06-.94-2.06-.94-.94-2.06-.94 2.06-2.06.94z\"/><path d=\"M17.41 7.96l-1.37-1.37c-.4-.4-.92-.59-1.43-.59-.52 0-1.04.2-1.43.59L10.3 9.45l-7.72 7.72c-.78.78-.78 2.05 0 2.83L4 21.41c.39.39.9.59 1.41.59.51 0 1.02-.2 1.41-.59l7.78-7.78 2.81-2.81c.8-.78.8-2.07 0-2.86zM5.41 20L4 18.59l7.72-7.72 1.47 1.35L5.41 20z\"/>\n",
              "  </svg>\n",
              "      </button>\n",
              "      \n",
              "  <style>\n",
              "    .colab-df-container {\n",
              "      display:flex;\n",
              "      flex-wrap:wrap;\n",
              "      gap: 12px;\n",
              "    }\n",
              "\n",
              "    .colab-df-convert {\n",
              "      background-color: #E8F0FE;\n",
              "      border: none;\n",
              "      border-radius: 50%;\n",
              "      cursor: pointer;\n",
              "      display: none;\n",
              "      fill: #1967D2;\n",
              "      height: 32px;\n",
              "      padding: 0 0 0 0;\n",
              "      width: 32px;\n",
              "    }\n",
              "\n",
              "    .colab-df-convert:hover {\n",
              "      background-color: #E2EBFA;\n",
              "      box-shadow: 0px 1px 2px rgba(60, 64, 67, 0.3), 0px 1px 3px 1px rgba(60, 64, 67, 0.15);\n",
              "      fill: #174EA6;\n",
              "    }\n",
              "\n",
              "    [theme=dark] .colab-df-convert {\n",
              "      background-color: #3B4455;\n",
              "      fill: #D2E3FC;\n",
              "    }\n",
              "\n",
              "    [theme=dark] .colab-df-convert:hover {\n",
              "      background-color: #434B5C;\n",
              "      box-shadow: 0px 1px 3px 1px rgba(0, 0, 0, 0.15);\n",
              "      filter: drop-shadow(0px 1px 2px rgba(0, 0, 0, 0.3));\n",
              "      fill: #FFFFFF;\n",
              "    }\n",
              "  </style>\n",
              "\n",
              "      <script>\n",
              "        const buttonEl =\n",
              "          document.querySelector('#df-0e933bf4-0af8-4a1f-80f2-f6260c8c906e button.colab-df-convert');\n",
              "        buttonEl.style.display =\n",
              "          google.colab.kernel.accessAllowed ? 'block' : 'none';\n",
              "\n",
              "        async function convertToInteractive(key) {\n",
              "          const element = document.querySelector('#df-0e933bf4-0af8-4a1f-80f2-f6260c8c906e');\n",
              "          const dataTable =\n",
              "            await google.colab.kernel.invokeFunction('convertToInteractive',\n",
              "                                                     [key], {});\n",
              "          if (!dataTable) return;\n",
              "\n",
              "          const docLinkHtml = 'Like what you see? Visit the ' +\n",
              "            '<a target=\"_blank\" href=https://colab.research.google.com/notebooks/data_table.ipynb>data table notebook</a>'\n",
              "            + ' to learn more about interactive tables.';\n",
              "          element.innerHTML = '';\n",
              "          dataTable['output_type'] = 'display_data';\n",
              "          await google.colab.output.renderOutput(dataTable, element);\n",
              "          const docLink = document.createElement('div');\n",
              "          docLink.innerHTML = docLinkHtml;\n",
              "          element.appendChild(docLink);\n",
              "        }\n",
              "      </script>\n",
              "    </div>\n",
              "  </div>\n",
              "  "
            ]
          },
          "metadata": {},
          "execution_count": 35
        }
      ]
    },
    {
      "cell_type": "markdown",
      "source": [
        "# Tratamento dos dados"
      ],
      "metadata": {
        "id": "Gx9j-6y0YJFO"
      }
    },
    {
      "cell_type": "code",
      "source": [
        "data_alugueis.rename(columns = {'address':'Endereco', 'adm-fees': 'Valor_condominio', 'garage-places':'Vagas_garagem', 'price':'Valor_aluguel', \n",
        "                       'rooms':'Quartos', 'square-foot':'m2', 'neighborhood':'Bairro', 'city':'Cidade', 'latitude':'Latitude', 'longitude':'Longitude'}, inplace = True)"
      ],
      "metadata": {
        "id": "3tK109OhVmYP"
      },
      "execution_count": 36,
      "outputs": []
    },
    {
      "cell_type": "code",
      "source": [
        "data_alugueis.info()"
      ],
      "metadata": {
        "colab": {
          "base_uri": "https://localhost:8080/"
        },
        "id": "ijVt_alXSYnw",
        "outputId": "bfcc62a6-b8b2-4968-9137-dc9e0d8f3efc"
      },
      "execution_count": 37,
      "outputs": [
        {
          "output_type": "stream",
          "name": "stdout",
          "text": [
            "<class 'pandas.core.frame.DataFrame'>\n",
            "RangeIndex: 5981 entries, 0 to 5980\n",
            "Data columns (total 10 columns):\n",
            " #   Column            Non-Null Count  Dtype  \n",
            "---  ------            --------------  -----  \n",
            " 0   Endereco          5981 non-null   object \n",
            " 1   Valor_condominio  3977 non-null   float64\n",
            " 2   Vagas_garagem     5981 non-null   object \n",
            " 3   Valor_aluguel     5951 non-null   float64\n",
            " 4   Quartos           5981 non-null   object \n",
            " 5   m2                5981 non-null   object \n",
            " 6   Bairro            5957 non-null   object \n",
            " 7   Cidade            5981 non-null   object \n",
            " 8   Latitude          5981 non-null   float64\n",
            " 9   Longitude         5981 non-null   float64\n",
            "dtypes: float64(4), object(6)\n",
            "memory usage: 467.4+ KB\n"
          ]
        }
      ]
    },
    {
      "cell_type": "markdown",
      "source": [
        "## Cidade"
      ],
      "metadata": {
        "id": "QatHCpLebsiN"
      }
    },
    {
      "cell_type": "markdown",
      "source": [
        "Tratamento de valores que estão com espaços em excesso.\n",
        "\n",
        "Seleção da Cidade Belo Horizonte."
      ],
      "metadata": {
        "id": "ECQLXyA_lBGF"
      }
    },
    {
      "cell_type": "code",
      "source": [
        "data_alugueis[\"Cidade\"].value_counts().index"
      ],
      "metadata": {
        "colab": {
          "base_uri": "https://localhost:8080/"
        },
        "id": "E0BD2o7LZH18",
        "outputId": "f4b22009-356f-4aa3-874a-1b1915646988"
      },
      "execution_count": 38,
      "outputs": [
        {
          "output_type": "execute_result",
          "data": {
            "text/plain": [
              "Index([' Belo Horizonte ', 'Belo Horizonte', ' Contagem ', ' Nova Lima ',\n",
              "       ' Sabará ', ' Ribeirão das Neves ', ' Lagoa Santa ', ' 461 ', ' 1542 ',\n",
              "       ' 22 ', ' São Paulo ', ' 1601 ', ' 570 ', ' Divinópolis ', ' 1122 ',\n",
              "       ' Km 480 ', ' Betim ', ' Santa Luzia ', ' 31 '],\n",
              "      dtype='object')"
            ]
          },
          "metadata": {},
          "execution_count": 38
        }
      ]
    },
    {
      "cell_type": "code",
      "source": [
        "data_alugueis[\"Cidade\"] = data_alugueis[\"Cidade\"].str.strip()"
      ],
      "metadata": {
        "id": "YW2rEPVtZP82"
      },
      "execution_count": 39,
      "outputs": []
    },
    {
      "cell_type": "code",
      "source": [
        "data_alugueis[\"Cidade\"].value_counts().index"
      ],
      "metadata": {
        "colab": {
          "base_uri": "https://localhost:8080/"
        },
        "id": "_KWndCBjZhAz",
        "outputId": "830d3721-65f7-4cd7-fb4b-08b6013d6b09"
      },
      "execution_count": 40,
      "outputs": [
        {
          "output_type": "execute_result",
          "data": {
            "text/plain": [
              "Index(['Belo Horizonte', 'Contagem', 'Nova Lima', 'Sabará',\n",
              "       'Ribeirão das Neves', 'Lagoa Santa', '461', '1542', '22', 'São Paulo',\n",
              "       '1601', '570', '1122', 'Divinópolis', 'Km 480', 'Betim', 'Santa Luzia',\n",
              "       '31'],\n",
              "      dtype='object')"
            ]
          },
          "metadata": {},
          "execution_count": 40
        }
      ]
    },
    {
      "cell_type": "code",
      "source": [
        "# Cidades presentes no dataset\n",
        "data_alugueis[\"Cidade\"].value_counts()"
      ],
      "metadata": {
        "colab": {
          "base_uri": "https://localhost:8080/"
        },
        "id": "VOUxdXlrSuc6",
        "outputId": "c90670ba-c2b4-4811-9aba-4abcdbb8425b"
      },
      "execution_count": 41,
      "outputs": [
        {
          "output_type": "execute_result",
          "data": {
            "text/plain": [
              "Belo Horizonte        5949\n",
              "Contagem                 6\n",
              "Nova Lima                4\n",
              "Sabará                   4\n",
              "Ribeirão das Neves       3\n",
              "Lagoa Santa              2\n",
              "461                      2\n",
              "1542                     1\n",
              "22                       1\n",
              "São Paulo                1\n",
              "1601                     1\n",
              "570                      1\n",
              "1122                     1\n",
              "Divinópolis              1\n",
              "Km 480                   1\n",
              "Betim                    1\n",
              "Santa Luzia              1\n",
              "31                       1\n",
              "Name: Cidade, dtype: int64"
            ]
          },
          "metadata": {},
          "execution_count": 41
        }
      ]
    },
    {
      "cell_type": "code",
      "source": [
        "data_alugueis[\"Cidade\"].value_counts()"
      ],
      "metadata": {
        "colab": {
          "base_uri": "https://localhost:8080/"
        },
        "id": "cRysEtnkS7Ba",
        "outputId": "c5fac230-4868-428a-935b-455b3cdc94d6"
      },
      "execution_count": 42,
      "outputs": [
        {
          "output_type": "execute_result",
          "data": {
            "text/plain": [
              "Belo Horizonte        5949\n",
              "Contagem                 6\n",
              "Nova Lima                4\n",
              "Sabará                   4\n",
              "Ribeirão das Neves       3\n",
              "Lagoa Santa              2\n",
              "461                      2\n",
              "1542                     1\n",
              "22                       1\n",
              "São Paulo                1\n",
              "1601                     1\n",
              "570                      1\n",
              "1122                     1\n",
              "Divinópolis              1\n",
              "Km 480                   1\n",
              "Betim                    1\n",
              "Santa Luzia              1\n",
              "31                       1\n",
              "Name: Cidade, dtype: int64"
            ]
          },
          "metadata": {},
          "execution_count": 42
        }
      ]
    },
    {
      "cell_type": "code",
      "source": [
        "data_alugueis = data_alugueis.query(\"Cidade == 'Belo Horizonte'\")\n",
        "data_alugueis.head()"
      ],
      "metadata": {
        "colab": {
          "base_uri": "https://localhost:8080/",
          "height": 206
        },
        "id": "zLcoieuPZDqb",
        "outputId": "f254a778-184e-4a25-81d9-fde23dc98ee5"
      },
      "execution_count": 43,
      "outputs": [
        {
          "output_type": "execute_result",
          "data": {
            "text/plain": [
              "                         Endereco  Valor_condominio Vagas_garagem  \\\n",
              "0    Avenida Raja Gabaglia, 1583              470.0             1   \n",
              "1       Rua Espírito Santo, 1171                NaN             1   \n",
              "2  Rua dos Expedicionários, 1082                NaN             5   \n",
              "3        Rua Marechal Hermes, 81              750.0             4   \n",
              "4                Rua Juruna, 110                NaN             6   \n",
              "\n",
              "   Valor_aluguel Quartos     m2         Bairro          Cidade   Latitude  \\\n",
              "0       330000.0       1     40     Luxemburgo  Belo Horizonte -19.936415   \n",
              "1       480000.0       2  45-65         Centro  Belo Horizonte -18.864776   \n",
              "2      1190000.0       4    411   Santa Amélia  Belo Horizonte -20.225241   \n",
              "3      1590000.0       4    158      Gutierrez  Belo Horizonte -19.937155   \n",
              "4       550000.0       3    278      Pindorama  Belo Horizonte -19.912982   \n",
              "\n",
              "   Longitude  \n",
              "0 -43.953396  \n",
              "1 -41.121777  \n",
              "2 -44.397780  \n",
              "3 -43.958694  \n",
              "4 -44.019944  "
            ],
            "text/html": [
              "\n",
              "  <div id=\"df-80851d0b-eee4-4950-82fe-f53d59180315\">\n",
              "    <div class=\"colab-df-container\">\n",
              "      <div>\n",
              "<style scoped>\n",
              "    .dataframe tbody tr th:only-of-type {\n",
              "        vertical-align: middle;\n",
              "    }\n",
              "\n",
              "    .dataframe tbody tr th {\n",
              "        vertical-align: top;\n",
              "    }\n",
              "\n",
              "    .dataframe thead th {\n",
              "        text-align: right;\n",
              "    }\n",
              "</style>\n",
              "<table border=\"1\" class=\"dataframe\">\n",
              "  <thead>\n",
              "    <tr style=\"text-align: right;\">\n",
              "      <th></th>\n",
              "      <th>Endereco</th>\n",
              "      <th>Valor_condominio</th>\n",
              "      <th>Vagas_garagem</th>\n",
              "      <th>Valor_aluguel</th>\n",
              "      <th>Quartos</th>\n",
              "      <th>m2</th>\n",
              "      <th>Bairro</th>\n",
              "      <th>Cidade</th>\n",
              "      <th>Latitude</th>\n",
              "      <th>Longitude</th>\n",
              "    </tr>\n",
              "  </thead>\n",
              "  <tbody>\n",
              "    <tr>\n",
              "      <th>0</th>\n",
              "      <td>Avenida Raja Gabaglia, 1583</td>\n",
              "      <td>470.0</td>\n",
              "      <td>1</td>\n",
              "      <td>330000.0</td>\n",
              "      <td>1</td>\n",
              "      <td>40</td>\n",
              "      <td>Luxemburgo</td>\n",
              "      <td>Belo Horizonte</td>\n",
              "      <td>-19.936415</td>\n",
              "      <td>-43.953396</td>\n",
              "    </tr>\n",
              "    <tr>\n",
              "      <th>1</th>\n",
              "      <td>Rua Espírito Santo, 1171</td>\n",
              "      <td>NaN</td>\n",
              "      <td>1</td>\n",
              "      <td>480000.0</td>\n",
              "      <td>2</td>\n",
              "      <td>45-65</td>\n",
              "      <td>Centro</td>\n",
              "      <td>Belo Horizonte</td>\n",
              "      <td>-18.864776</td>\n",
              "      <td>-41.121777</td>\n",
              "    </tr>\n",
              "    <tr>\n",
              "      <th>2</th>\n",
              "      <td>Rua dos Expedicionários, 1082</td>\n",
              "      <td>NaN</td>\n",
              "      <td>5</td>\n",
              "      <td>1190000.0</td>\n",
              "      <td>4</td>\n",
              "      <td>411</td>\n",
              "      <td>Santa Amélia</td>\n",
              "      <td>Belo Horizonte</td>\n",
              "      <td>-20.225241</td>\n",
              "      <td>-44.397780</td>\n",
              "    </tr>\n",
              "    <tr>\n",
              "      <th>3</th>\n",
              "      <td>Rua Marechal Hermes, 81</td>\n",
              "      <td>750.0</td>\n",
              "      <td>4</td>\n",
              "      <td>1590000.0</td>\n",
              "      <td>4</td>\n",
              "      <td>158</td>\n",
              "      <td>Gutierrez</td>\n",
              "      <td>Belo Horizonte</td>\n",
              "      <td>-19.937155</td>\n",
              "      <td>-43.958694</td>\n",
              "    </tr>\n",
              "    <tr>\n",
              "      <th>4</th>\n",
              "      <td>Rua Juruna, 110</td>\n",
              "      <td>NaN</td>\n",
              "      <td>6</td>\n",
              "      <td>550000.0</td>\n",
              "      <td>3</td>\n",
              "      <td>278</td>\n",
              "      <td>Pindorama</td>\n",
              "      <td>Belo Horizonte</td>\n",
              "      <td>-19.912982</td>\n",
              "      <td>-44.019944</td>\n",
              "    </tr>\n",
              "  </tbody>\n",
              "</table>\n",
              "</div>\n",
              "      <button class=\"colab-df-convert\" onclick=\"convertToInteractive('df-80851d0b-eee4-4950-82fe-f53d59180315')\"\n",
              "              title=\"Convert this dataframe to an interactive table.\"\n",
              "              style=\"display:none;\">\n",
              "        \n",
              "  <svg xmlns=\"http://www.w3.org/2000/svg\" height=\"24px\"viewBox=\"0 0 24 24\"\n",
              "       width=\"24px\">\n",
              "    <path d=\"M0 0h24v24H0V0z\" fill=\"none\"/>\n",
              "    <path d=\"M18.56 5.44l.94 2.06.94-2.06 2.06-.94-2.06-.94-.94-2.06-.94 2.06-2.06.94zm-11 1L8.5 8.5l.94-2.06 2.06-.94-2.06-.94L8.5 2.5l-.94 2.06-2.06.94zm10 10l.94 2.06.94-2.06 2.06-.94-2.06-.94-.94-2.06-.94 2.06-2.06.94z\"/><path d=\"M17.41 7.96l-1.37-1.37c-.4-.4-.92-.59-1.43-.59-.52 0-1.04.2-1.43.59L10.3 9.45l-7.72 7.72c-.78.78-.78 2.05 0 2.83L4 21.41c.39.39.9.59 1.41.59.51 0 1.02-.2 1.41-.59l7.78-7.78 2.81-2.81c.8-.78.8-2.07 0-2.86zM5.41 20L4 18.59l7.72-7.72 1.47 1.35L5.41 20z\"/>\n",
              "  </svg>\n",
              "      </button>\n",
              "      \n",
              "  <style>\n",
              "    .colab-df-container {\n",
              "      display:flex;\n",
              "      flex-wrap:wrap;\n",
              "      gap: 12px;\n",
              "    }\n",
              "\n",
              "    .colab-df-convert {\n",
              "      background-color: #E8F0FE;\n",
              "      border: none;\n",
              "      border-radius: 50%;\n",
              "      cursor: pointer;\n",
              "      display: none;\n",
              "      fill: #1967D2;\n",
              "      height: 32px;\n",
              "      padding: 0 0 0 0;\n",
              "      width: 32px;\n",
              "    }\n",
              "\n",
              "    .colab-df-convert:hover {\n",
              "      background-color: #E2EBFA;\n",
              "      box-shadow: 0px 1px 2px rgba(60, 64, 67, 0.3), 0px 1px 3px 1px rgba(60, 64, 67, 0.15);\n",
              "      fill: #174EA6;\n",
              "    }\n",
              "\n",
              "    [theme=dark] .colab-df-convert {\n",
              "      background-color: #3B4455;\n",
              "      fill: #D2E3FC;\n",
              "    }\n",
              "\n",
              "    [theme=dark] .colab-df-convert:hover {\n",
              "      background-color: #434B5C;\n",
              "      box-shadow: 0px 1px 3px 1px rgba(0, 0, 0, 0.15);\n",
              "      filter: drop-shadow(0px 1px 2px rgba(0, 0, 0, 0.3));\n",
              "      fill: #FFFFFF;\n",
              "    }\n",
              "  </style>\n",
              "\n",
              "      <script>\n",
              "        const buttonEl =\n",
              "          document.querySelector('#df-80851d0b-eee4-4950-82fe-f53d59180315 button.colab-df-convert');\n",
              "        buttonEl.style.display =\n",
              "          google.colab.kernel.accessAllowed ? 'block' : 'none';\n",
              "\n",
              "        async function convertToInteractive(key) {\n",
              "          const element = document.querySelector('#df-80851d0b-eee4-4950-82fe-f53d59180315');\n",
              "          const dataTable =\n",
              "            await google.colab.kernel.invokeFunction('convertToInteractive',\n",
              "                                                     [key], {});\n",
              "          if (!dataTable) return;\n",
              "\n",
              "          const docLinkHtml = 'Like what you see? Visit the ' +\n",
              "            '<a target=\"_blank\" href=https://colab.research.google.com/notebooks/data_table.ipynb>data table notebook</a>'\n",
              "            + ' to learn more about interactive tables.';\n",
              "          element.innerHTML = '';\n",
              "          dataTable['output_type'] = 'display_data';\n",
              "          await google.colab.output.renderOutput(dataTable, element);\n",
              "          const docLink = document.createElement('div');\n",
              "          docLink.innerHTML = docLinkHtml;\n",
              "          element.appendChild(docLink);\n",
              "        }\n",
              "      </script>\n",
              "    </div>\n",
              "  </div>\n",
              "  "
            ]
          },
          "metadata": {},
          "execution_count": 43
        }
      ]
    },
    {
      "cell_type": "markdown",
      "source": [
        "## Valor dos condomínios"
      ],
      "metadata": {
        "id": "41Mt5uNkb7FI"
      }
    },
    {
      "cell_type": "markdown",
      "source": [
        "Imóveis sem condomínio estão com valor nulo, estes valores podem ser subtituídos por zero."
      ],
      "metadata": {
        "id": "cPwW1c37k8Aj"
      }
    },
    {
      "cell_type": "code",
      "source": [
        "data_alugueis[\"Valor_condominio\"].isna()"
      ],
      "metadata": {
        "colab": {
          "base_uri": "https://localhost:8080/"
        },
        "id": "dMOVQ-ITa88J",
        "outputId": "af283aba-2edc-4e25-8516-20475e6b6f03"
      },
      "execution_count": 44,
      "outputs": [
        {
          "output_type": "execute_result",
          "data": {
            "text/plain": [
              "0       False\n",
              "1        True\n",
              "2        True\n",
              "3       False\n",
              "4        True\n",
              "        ...  \n",
              "5976    False\n",
              "5977    False\n",
              "5978    False\n",
              "5979    False\n",
              "5980     True\n",
              "Name: Valor_condominio, Length: 5949, dtype: bool"
            ]
          },
          "metadata": {},
          "execution_count": 44
        }
      ]
    },
    {
      "cell_type": "code",
      "source": [
        "data_alugueis[\"Valor_condominio\"].fillna(0, inplace = True)"
      ],
      "metadata": {
        "id": "K73On0Geci9c"
      },
      "execution_count": 45,
      "outputs": []
    },
    {
      "cell_type": "code",
      "source": [
        "data_alugueis.info()"
      ],
      "metadata": {
        "colab": {
          "base_uri": "https://localhost:8080/"
        },
        "id": "ZdR9qLxmc_-b",
        "outputId": "9397eaab-4d91-44a4-9d5b-4cb7b48c53bb"
      },
      "execution_count": 46,
      "outputs": [
        {
          "output_type": "stream",
          "name": "stdout",
          "text": [
            "<class 'pandas.core.frame.DataFrame'>\n",
            "Int64Index: 5949 entries, 0 to 5980\n",
            "Data columns (total 10 columns):\n",
            " #   Column            Non-Null Count  Dtype  \n",
            "---  ------            --------------  -----  \n",
            " 0   Endereco          5949 non-null   object \n",
            " 1   Valor_condominio  5949 non-null   float64\n",
            " 2   Vagas_garagem     5949 non-null   object \n",
            " 3   Valor_aluguel     5923 non-null   float64\n",
            " 4   Quartos           5949 non-null   object \n",
            " 5   m2                5949 non-null   object \n",
            " 6   Bairro            5925 non-null   object \n",
            " 7   Cidade            5949 non-null   object \n",
            " 8   Latitude          5949 non-null   float64\n",
            " 9   Longitude         5949 non-null   float64\n",
            "dtypes: float64(4), object(6)\n",
            "memory usage: 511.2+ KB\n"
          ]
        }
      ]
    },
    {
      "cell_type": "markdown",
      "source": [
        "## Vagas de garagem, Quartos e Metragem"
      ],
      "metadata": {
        "id": "jbt2kUfydvOg"
      }
    },
    {
      "cell_type": "markdown",
      "source": [
        "Algumas linhas possuem mais de um valor, no formato x-y. Vou usar apenas o primeiro valor,  preencher os \"em branco\" por zero e converter para inteiro."
      ],
      "metadata": {
        "id": "6JHuEF8XjKlw"
      }
    },
    {
      "cell_type": "code",
      "source": [
        "data_alugueis[\"Vagas_garagem\"].unique()"
      ],
      "metadata": {
        "colab": {
          "base_uri": "https://localhost:8080/"
        },
        "id": "UksPvK0OdDbb",
        "outputId": "fe27b85e-2bde-4669-8bb8-7056a59b8a68"
      },
      "execution_count": 47,
      "outputs": [
        {
          "output_type": "execute_result",
          "data": {
            "text/plain": [
              "array(['1', '5', '4', '6', '2', '3', '2-3', '--', '1-2', '10', '13',\n",
              "       '3-4', '7', '2-4', '1-3', '8', '20', '9', '50', '18', '28', '12',\n",
              "       '15', '25', '40', '22', '11', '46', '19', '17'], dtype=object)"
            ]
          },
          "metadata": {},
          "execution_count": 47
        }
      ]
    },
    {
      "cell_type": "code",
      "source": [
        "data_alugueis[\"Vagas_garagem\"] = data_alugueis[\"Vagas_garagem\"].str.replace(\"--\", \"0\")\n",
        "data_alugueis[\"Quartos\"] = data_alugueis[\"Quartos\"].str.replace(\"--\", \"0\")\n",
        "data_alugueis[\"m2\"] = data_alugueis[\"m2\"].str.replace(\"--\", \"0\")"
      ],
      "metadata": {
        "id": "y63uaKp_kGJ6"
      },
      "execution_count": 48,
      "outputs": []
    },
    {
      "cell_type": "code",
      "source": [
        "data_alugueis[\"Vagas_garagem\"] = data_alugueis[\"Vagas_garagem\"].str.split(pat = \"-\", expand = True)[0]\n",
        "data_alugueis[\"Quartos\"] = data_alugueis[\"Quartos\"].str.split(pat = \"-\", expand = True)[0]\n",
        "data_alugueis[\"m2\"] = data_alugueis[\"m2\"].str.split(pat = \"-\", expand = True)[0]"
      ],
      "metadata": {
        "id": "fk96RAvTfuDc"
      },
      "execution_count": 49,
      "outputs": []
    },
    {
      "cell_type": "code",
      "source": [
        "data_alugueis[\"Vagas_garagem\"] = data_alugueis[\"Vagas_garagem\"].astype(int)\n",
        "data_alugueis[\"Quartos\"] = data_alugueis[\"Quartos\"].astype(int)\n",
        "data_alugueis[\"m2\"] = data_alugueis[\"m2\"].astype(float)"
      ],
      "metadata": {
        "id": "J9IWplfji8Q9"
      },
      "execution_count": 50,
      "outputs": []
    },
    {
      "cell_type": "code",
      "source": [
        "#data_alugueis[\"Vagas_garagem\"].unique()"
      ],
      "metadata": {
        "id": "vWgezn49jrgs"
      },
      "execution_count": 51,
      "outputs": []
    },
    {
      "cell_type": "code",
      "source": [
        "#data_alugueis[\"Quartos\"].unique()"
      ],
      "metadata": {
        "id": "RqrLS2oYqco6"
      },
      "execution_count": 52,
      "outputs": []
    },
    {
      "cell_type": "code",
      "source": [
        "#data_alugueis[\"m2\"].unique()"
      ],
      "metadata": {
        "id": "OabV89WrqdGy"
      },
      "execution_count": 53,
      "outputs": []
    },
    {
      "cell_type": "code",
      "source": [
        "data_alugueis.info()"
      ],
      "metadata": {
        "colab": {
          "base_uri": "https://localhost:8080/"
        },
        "id": "KjDc8hBBj-7k",
        "outputId": "3dfd8bad-db4c-4245-c3e0-b7c15f19be01"
      },
      "execution_count": 54,
      "outputs": [
        {
          "output_type": "stream",
          "name": "stdout",
          "text": [
            "<class 'pandas.core.frame.DataFrame'>\n",
            "Int64Index: 5949 entries, 0 to 5980\n",
            "Data columns (total 10 columns):\n",
            " #   Column            Non-Null Count  Dtype  \n",
            "---  ------            --------------  -----  \n",
            " 0   Endereco          5949 non-null   object \n",
            " 1   Valor_condominio  5949 non-null   float64\n",
            " 2   Vagas_garagem     5949 non-null   int64  \n",
            " 3   Valor_aluguel     5923 non-null   float64\n",
            " 4   Quartos           5949 non-null   int64  \n",
            " 5   m2                5949 non-null   float64\n",
            " 6   Bairro            5925 non-null   object \n",
            " 7   Cidade            5949 non-null   object \n",
            " 8   Latitude          5949 non-null   float64\n",
            " 9   Longitude         5949 non-null   float64\n",
            "dtypes: float64(5), int64(2), object(3)\n",
            "memory usage: 511.2+ KB\n"
          ]
        }
      ]
    },
    {
      "cell_type": "markdown",
      "source": [
        "## Remoção de Valores de aluguel e Bairros nulos"
      ],
      "metadata": {
        "id": "E0NRMLwZn1Md"
      }
    },
    {
      "cell_type": "code",
      "source": [
        "data_alugueis[data_alugueis[\"Valor_aluguel\"].isnull()].shape[0]"
      ],
      "metadata": {
        "colab": {
          "base_uri": "https://localhost:8080/"
        },
        "id": "WTeWB-Gikqg1",
        "outputId": "c9c616ea-87fa-4f93-ba59-52ac555af050"
      },
      "execution_count": 55,
      "outputs": [
        {
          "output_type": "execute_result",
          "data": {
            "text/plain": [
              "26"
            ]
          },
          "metadata": {},
          "execution_count": 55
        }
      ]
    },
    {
      "cell_type": "code",
      "source": [
        "data_alugueis[data_alugueis[\"Bairro\"].isnull()].shape[0]"
      ],
      "metadata": {
        "colab": {
          "base_uri": "https://localhost:8080/"
        },
        "id": "jMQD4KLmoIGF",
        "outputId": "8aaa300f-94d9-4ccd-ae34-bd0cfb712b48"
      },
      "execution_count": 56,
      "outputs": [
        {
          "output_type": "execute_result",
          "data": {
            "text/plain": [
              "24"
            ]
          },
          "metadata": {},
          "execution_count": 56
        }
      ]
    },
    {
      "cell_type": "code",
      "source": [
        "data_alugueis.dropna(inplace = True)"
      ],
      "metadata": {
        "id": "pTxui3RUogDk"
      },
      "execution_count": 57,
      "outputs": []
    },
    {
      "cell_type": "code",
      "source": [
        "data_alugueis.info()"
      ],
      "metadata": {
        "colab": {
          "base_uri": "https://localhost:8080/"
        },
        "id": "WOVAhbyao8V9",
        "outputId": "dddcbc15-3d25-4ea8-8c44-6794c1fe98f2"
      },
      "execution_count": 58,
      "outputs": [
        {
          "output_type": "stream",
          "name": "stdout",
          "text": [
            "<class 'pandas.core.frame.DataFrame'>\n",
            "Int64Index: 5899 entries, 0 to 5980\n",
            "Data columns (total 10 columns):\n",
            " #   Column            Non-Null Count  Dtype  \n",
            "---  ------            --------------  -----  \n",
            " 0   Endereco          5899 non-null   object \n",
            " 1   Valor_condominio  5899 non-null   float64\n",
            " 2   Vagas_garagem     5899 non-null   int64  \n",
            " 3   Valor_aluguel     5899 non-null   float64\n",
            " 4   Quartos           5899 non-null   int64  \n",
            " 5   m2                5899 non-null   float64\n",
            " 6   Bairro            5899 non-null   object \n",
            " 7   Cidade            5899 non-null   object \n",
            " 8   Latitude          5899 non-null   float64\n",
            " 9   Longitude         5899 non-null   float64\n",
            "dtypes: float64(5), int64(2), object(3)\n",
            "memory usage: 506.9+ KB\n"
          ]
        }
      ]
    },
    {
      "cell_type": "code",
      "source": [
        "data_alugueis.head()"
      ],
      "metadata": {
        "colab": {
          "base_uri": "https://localhost:8080/",
          "height": 206
        },
        "id": "zc0h1JRhp0bW",
        "outputId": "f9295438-cacd-488c-934f-6bfa47b56198"
      },
      "execution_count": 59,
      "outputs": [
        {
          "output_type": "execute_result",
          "data": {
            "text/plain": [
              "                         Endereco  Valor_condominio  Vagas_garagem  \\\n",
              "0    Avenida Raja Gabaglia, 1583              470.0              1   \n",
              "1       Rua Espírito Santo, 1171                0.0              1   \n",
              "2  Rua dos Expedicionários, 1082                0.0              5   \n",
              "3        Rua Marechal Hermes, 81              750.0              4   \n",
              "4                Rua Juruna, 110                0.0              6   \n",
              "\n",
              "   Valor_aluguel  Quartos     m2         Bairro          Cidade   Latitude  \\\n",
              "0       330000.0        1   40.0     Luxemburgo  Belo Horizonte -19.936415   \n",
              "1       480000.0        2   45.0         Centro  Belo Horizonte -18.864776   \n",
              "2      1190000.0        4  411.0   Santa Amélia  Belo Horizonte -20.225241   \n",
              "3      1590000.0        4  158.0      Gutierrez  Belo Horizonte -19.937155   \n",
              "4       550000.0        3  278.0      Pindorama  Belo Horizonte -19.912982   \n",
              "\n",
              "   Longitude  \n",
              "0 -43.953396  \n",
              "1 -41.121777  \n",
              "2 -44.397780  \n",
              "3 -43.958694  \n",
              "4 -44.019944  "
            ],
            "text/html": [
              "\n",
              "  <div id=\"df-ae0b0620-7147-467a-b513-2408e6064696\">\n",
              "    <div class=\"colab-df-container\">\n",
              "      <div>\n",
              "<style scoped>\n",
              "    .dataframe tbody tr th:only-of-type {\n",
              "        vertical-align: middle;\n",
              "    }\n",
              "\n",
              "    .dataframe tbody tr th {\n",
              "        vertical-align: top;\n",
              "    }\n",
              "\n",
              "    .dataframe thead th {\n",
              "        text-align: right;\n",
              "    }\n",
              "</style>\n",
              "<table border=\"1\" class=\"dataframe\">\n",
              "  <thead>\n",
              "    <tr style=\"text-align: right;\">\n",
              "      <th></th>\n",
              "      <th>Endereco</th>\n",
              "      <th>Valor_condominio</th>\n",
              "      <th>Vagas_garagem</th>\n",
              "      <th>Valor_aluguel</th>\n",
              "      <th>Quartos</th>\n",
              "      <th>m2</th>\n",
              "      <th>Bairro</th>\n",
              "      <th>Cidade</th>\n",
              "      <th>Latitude</th>\n",
              "      <th>Longitude</th>\n",
              "    </tr>\n",
              "  </thead>\n",
              "  <tbody>\n",
              "    <tr>\n",
              "      <th>0</th>\n",
              "      <td>Avenida Raja Gabaglia, 1583</td>\n",
              "      <td>470.0</td>\n",
              "      <td>1</td>\n",
              "      <td>330000.0</td>\n",
              "      <td>1</td>\n",
              "      <td>40.0</td>\n",
              "      <td>Luxemburgo</td>\n",
              "      <td>Belo Horizonte</td>\n",
              "      <td>-19.936415</td>\n",
              "      <td>-43.953396</td>\n",
              "    </tr>\n",
              "    <tr>\n",
              "      <th>1</th>\n",
              "      <td>Rua Espírito Santo, 1171</td>\n",
              "      <td>0.0</td>\n",
              "      <td>1</td>\n",
              "      <td>480000.0</td>\n",
              "      <td>2</td>\n",
              "      <td>45.0</td>\n",
              "      <td>Centro</td>\n",
              "      <td>Belo Horizonte</td>\n",
              "      <td>-18.864776</td>\n",
              "      <td>-41.121777</td>\n",
              "    </tr>\n",
              "    <tr>\n",
              "      <th>2</th>\n",
              "      <td>Rua dos Expedicionários, 1082</td>\n",
              "      <td>0.0</td>\n",
              "      <td>5</td>\n",
              "      <td>1190000.0</td>\n",
              "      <td>4</td>\n",
              "      <td>411.0</td>\n",
              "      <td>Santa Amélia</td>\n",
              "      <td>Belo Horizonte</td>\n",
              "      <td>-20.225241</td>\n",
              "      <td>-44.397780</td>\n",
              "    </tr>\n",
              "    <tr>\n",
              "      <th>3</th>\n",
              "      <td>Rua Marechal Hermes, 81</td>\n",
              "      <td>750.0</td>\n",
              "      <td>4</td>\n",
              "      <td>1590000.0</td>\n",
              "      <td>4</td>\n",
              "      <td>158.0</td>\n",
              "      <td>Gutierrez</td>\n",
              "      <td>Belo Horizonte</td>\n",
              "      <td>-19.937155</td>\n",
              "      <td>-43.958694</td>\n",
              "    </tr>\n",
              "    <tr>\n",
              "      <th>4</th>\n",
              "      <td>Rua Juruna, 110</td>\n",
              "      <td>0.0</td>\n",
              "      <td>6</td>\n",
              "      <td>550000.0</td>\n",
              "      <td>3</td>\n",
              "      <td>278.0</td>\n",
              "      <td>Pindorama</td>\n",
              "      <td>Belo Horizonte</td>\n",
              "      <td>-19.912982</td>\n",
              "      <td>-44.019944</td>\n",
              "    </tr>\n",
              "  </tbody>\n",
              "</table>\n",
              "</div>\n",
              "      <button class=\"colab-df-convert\" onclick=\"convertToInteractive('df-ae0b0620-7147-467a-b513-2408e6064696')\"\n",
              "              title=\"Convert this dataframe to an interactive table.\"\n",
              "              style=\"display:none;\">\n",
              "        \n",
              "  <svg xmlns=\"http://www.w3.org/2000/svg\" height=\"24px\"viewBox=\"0 0 24 24\"\n",
              "       width=\"24px\">\n",
              "    <path d=\"M0 0h24v24H0V0z\" fill=\"none\"/>\n",
              "    <path d=\"M18.56 5.44l.94 2.06.94-2.06 2.06-.94-2.06-.94-.94-2.06-.94 2.06-2.06.94zm-11 1L8.5 8.5l.94-2.06 2.06-.94-2.06-.94L8.5 2.5l-.94 2.06-2.06.94zm10 10l.94 2.06.94-2.06 2.06-.94-2.06-.94-.94-2.06-.94 2.06-2.06.94z\"/><path d=\"M17.41 7.96l-1.37-1.37c-.4-.4-.92-.59-1.43-.59-.52 0-1.04.2-1.43.59L10.3 9.45l-7.72 7.72c-.78.78-.78 2.05 0 2.83L4 21.41c.39.39.9.59 1.41.59.51 0 1.02-.2 1.41-.59l7.78-7.78 2.81-2.81c.8-.78.8-2.07 0-2.86zM5.41 20L4 18.59l7.72-7.72 1.47 1.35L5.41 20z\"/>\n",
              "  </svg>\n",
              "      </button>\n",
              "      \n",
              "  <style>\n",
              "    .colab-df-container {\n",
              "      display:flex;\n",
              "      flex-wrap:wrap;\n",
              "      gap: 12px;\n",
              "    }\n",
              "\n",
              "    .colab-df-convert {\n",
              "      background-color: #E8F0FE;\n",
              "      border: none;\n",
              "      border-radius: 50%;\n",
              "      cursor: pointer;\n",
              "      display: none;\n",
              "      fill: #1967D2;\n",
              "      height: 32px;\n",
              "      padding: 0 0 0 0;\n",
              "      width: 32px;\n",
              "    }\n",
              "\n",
              "    .colab-df-convert:hover {\n",
              "      background-color: #E2EBFA;\n",
              "      box-shadow: 0px 1px 2px rgba(60, 64, 67, 0.3), 0px 1px 3px 1px rgba(60, 64, 67, 0.15);\n",
              "      fill: #174EA6;\n",
              "    }\n",
              "\n",
              "    [theme=dark] .colab-df-convert {\n",
              "      background-color: #3B4455;\n",
              "      fill: #D2E3FC;\n",
              "    }\n",
              "\n",
              "    [theme=dark] .colab-df-convert:hover {\n",
              "      background-color: #434B5C;\n",
              "      box-shadow: 0px 1px 3px 1px rgba(0, 0, 0, 0.15);\n",
              "      filter: drop-shadow(0px 1px 2px rgba(0, 0, 0, 0.3));\n",
              "      fill: #FFFFFF;\n",
              "    }\n",
              "  </style>\n",
              "\n",
              "      <script>\n",
              "        const buttonEl =\n",
              "          document.querySelector('#df-ae0b0620-7147-467a-b513-2408e6064696 button.colab-df-convert');\n",
              "        buttonEl.style.display =\n",
              "          google.colab.kernel.accessAllowed ? 'block' : 'none';\n",
              "\n",
              "        async function convertToInteractive(key) {\n",
              "          const element = document.querySelector('#df-ae0b0620-7147-467a-b513-2408e6064696');\n",
              "          const dataTable =\n",
              "            await google.colab.kernel.invokeFunction('convertToInteractive',\n",
              "                                                     [key], {});\n",
              "          if (!dataTable) return;\n",
              "\n",
              "          const docLinkHtml = 'Like what you see? Visit the ' +\n",
              "            '<a target=\"_blank\" href=https://colab.research.google.com/notebooks/data_table.ipynb>data table notebook</a>'\n",
              "            + ' to learn more about interactive tables.';\n",
              "          element.innerHTML = '';\n",
              "          dataTable['output_type'] = 'display_data';\n",
              "          await google.colab.output.renderOutput(dataTable, element);\n",
              "          const docLink = document.createElement('div');\n",
              "          docLink.innerHTML = docLinkHtml;\n",
              "          element.appendChild(docLink);\n",
              "        }\n",
              "      </script>\n",
              "    </div>\n",
              "  </div>\n",
              "  "
            ]
          },
          "metadata": {},
          "execution_count": 59
        }
      ]
    },
    {
      "cell_type": "markdown",
      "source": [
        "## Separação de Rua e Número"
      ],
      "metadata": {
        "id": "vc54KCu3vhqD"
      }
    },
    {
      "cell_type": "code",
      "source": [
        "rua_numero = data_alugueis[\"Endereco\"].str.split(pat = \", \", expand = True)\n",
        "rua_numero[0].isnull().value_counts()"
      ],
      "metadata": {
        "colab": {
          "base_uri": "https://localhost:8080/"
        },
        "id": "yg6J3nKerwV-",
        "outputId": "0916c962-2c58-466b-bb4f-47e7a68e20ed"
      },
      "execution_count": 60,
      "outputs": [
        {
          "output_type": "execute_result",
          "data": {
            "text/plain": [
              "False    5899\n",
              "Name: 0, dtype: int64"
            ]
          },
          "metadata": {},
          "execution_count": 60
        }
      ]
    },
    {
      "cell_type": "code",
      "source": [
        "data_alugueis[\"Rua\"] = data_alugueis[\"Endereco\"].str.split(pat = \", \", expand = True)[0]\n",
        "data_alugueis[\"Numero\"] = data_alugueis[\"Endereco\"].str.split(pat = \", \", expand = True)[1]\n",
        "data_alugueis.head()"
      ],
      "metadata": {
        "colab": {
          "base_uri": "https://localhost:8080/",
          "height": 206
        },
        "id": "H1gYhbsBv4lH",
        "outputId": "3ce6f59d-70d5-4f74-8e75-983ee68a3ea7"
      },
      "execution_count": 61,
      "outputs": [
        {
          "output_type": "execute_result",
          "data": {
            "text/plain": [
              "                         Endereco  Valor_condominio  Vagas_garagem  \\\n",
              "0    Avenida Raja Gabaglia, 1583              470.0              1   \n",
              "1       Rua Espírito Santo, 1171                0.0              1   \n",
              "2  Rua dos Expedicionários, 1082                0.0              5   \n",
              "3        Rua Marechal Hermes, 81              750.0              4   \n",
              "4                Rua Juruna, 110                0.0              6   \n",
              "\n",
              "   Valor_aluguel  Quartos     m2         Bairro          Cidade   Latitude  \\\n",
              "0       330000.0        1   40.0     Luxemburgo  Belo Horizonte -19.936415   \n",
              "1       480000.0        2   45.0         Centro  Belo Horizonte -18.864776   \n",
              "2      1190000.0        4  411.0   Santa Amélia  Belo Horizonte -20.225241   \n",
              "3      1590000.0        4  158.0      Gutierrez  Belo Horizonte -19.937155   \n",
              "4       550000.0        3  278.0      Pindorama  Belo Horizonte -19.912982   \n",
              "\n",
              "   Longitude                      Rua Numero  \n",
              "0 -43.953396    Avenida Raja Gabaglia  1583   \n",
              "1 -41.121777       Rua Espírito Santo  1171   \n",
              "2 -44.397780  Rua dos Expedicionários  1082   \n",
              "3 -43.958694      Rua Marechal Hermes    81   \n",
              "4 -44.019944               Rua Juruna   110   "
            ],
            "text/html": [
              "\n",
              "  <div id=\"df-776997bd-b43e-4fc8-847e-3cb21dda4cf8\">\n",
              "    <div class=\"colab-df-container\">\n",
              "      <div>\n",
              "<style scoped>\n",
              "    .dataframe tbody tr th:only-of-type {\n",
              "        vertical-align: middle;\n",
              "    }\n",
              "\n",
              "    .dataframe tbody tr th {\n",
              "        vertical-align: top;\n",
              "    }\n",
              "\n",
              "    .dataframe thead th {\n",
              "        text-align: right;\n",
              "    }\n",
              "</style>\n",
              "<table border=\"1\" class=\"dataframe\">\n",
              "  <thead>\n",
              "    <tr style=\"text-align: right;\">\n",
              "      <th></th>\n",
              "      <th>Endereco</th>\n",
              "      <th>Valor_condominio</th>\n",
              "      <th>Vagas_garagem</th>\n",
              "      <th>Valor_aluguel</th>\n",
              "      <th>Quartos</th>\n",
              "      <th>m2</th>\n",
              "      <th>Bairro</th>\n",
              "      <th>Cidade</th>\n",
              "      <th>Latitude</th>\n",
              "      <th>Longitude</th>\n",
              "      <th>Rua</th>\n",
              "      <th>Numero</th>\n",
              "    </tr>\n",
              "  </thead>\n",
              "  <tbody>\n",
              "    <tr>\n",
              "      <th>0</th>\n",
              "      <td>Avenida Raja Gabaglia, 1583</td>\n",
              "      <td>470.0</td>\n",
              "      <td>1</td>\n",
              "      <td>330000.0</td>\n",
              "      <td>1</td>\n",
              "      <td>40.0</td>\n",
              "      <td>Luxemburgo</td>\n",
              "      <td>Belo Horizonte</td>\n",
              "      <td>-19.936415</td>\n",
              "      <td>-43.953396</td>\n",
              "      <td>Avenida Raja Gabaglia</td>\n",
              "      <td>1583</td>\n",
              "    </tr>\n",
              "    <tr>\n",
              "      <th>1</th>\n",
              "      <td>Rua Espírito Santo, 1171</td>\n",
              "      <td>0.0</td>\n",
              "      <td>1</td>\n",
              "      <td>480000.0</td>\n",
              "      <td>2</td>\n",
              "      <td>45.0</td>\n",
              "      <td>Centro</td>\n",
              "      <td>Belo Horizonte</td>\n",
              "      <td>-18.864776</td>\n",
              "      <td>-41.121777</td>\n",
              "      <td>Rua Espírito Santo</td>\n",
              "      <td>1171</td>\n",
              "    </tr>\n",
              "    <tr>\n",
              "      <th>2</th>\n",
              "      <td>Rua dos Expedicionários, 1082</td>\n",
              "      <td>0.0</td>\n",
              "      <td>5</td>\n",
              "      <td>1190000.0</td>\n",
              "      <td>4</td>\n",
              "      <td>411.0</td>\n",
              "      <td>Santa Amélia</td>\n",
              "      <td>Belo Horizonte</td>\n",
              "      <td>-20.225241</td>\n",
              "      <td>-44.397780</td>\n",
              "      <td>Rua dos Expedicionários</td>\n",
              "      <td>1082</td>\n",
              "    </tr>\n",
              "    <tr>\n",
              "      <th>3</th>\n",
              "      <td>Rua Marechal Hermes, 81</td>\n",
              "      <td>750.0</td>\n",
              "      <td>4</td>\n",
              "      <td>1590000.0</td>\n",
              "      <td>4</td>\n",
              "      <td>158.0</td>\n",
              "      <td>Gutierrez</td>\n",
              "      <td>Belo Horizonte</td>\n",
              "      <td>-19.937155</td>\n",
              "      <td>-43.958694</td>\n",
              "      <td>Rua Marechal Hermes</td>\n",
              "      <td>81</td>\n",
              "    </tr>\n",
              "    <tr>\n",
              "      <th>4</th>\n",
              "      <td>Rua Juruna, 110</td>\n",
              "      <td>0.0</td>\n",
              "      <td>6</td>\n",
              "      <td>550000.0</td>\n",
              "      <td>3</td>\n",
              "      <td>278.0</td>\n",
              "      <td>Pindorama</td>\n",
              "      <td>Belo Horizonte</td>\n",
              "      <td>-19.912982</td>\n",
              "      <td>-44.019944</td>\n",
              "      <td>Rua Juruna</td>\n",
              "      <td>110</td>\n",
              "    </tr>\n",
              "  </tbody>\n",
              "</table>\n",
              "</div>\n",
              "      <button class=\"colab-df-convert\" onclick=\"convertToInteractive('df-776997bd-b43e-4fc8-847e-3cb21dda4cf8')\"\n",
              "              title=\"Convert this dataframe to an interactive table.\"\n",
              "              style=\"display:none;\">\n",
              "        \n",
              "  <svg xmlns=\"http://www.w3.org/2000/svg\" height=\"24px\"viewBox=\"0 0 24 24\"\n",
              "       width=\"24px\">\n",
              "    <path d=\"M0 0h24v24H0V0z\" fill=\"none\"/>\n",
              "    <path d=\"M18.56 5.44l.94 2.06.94-2.06 2.06-.94-2.06-.94-.94-2.06-.94 2.06-2.06.94zm-11 1L8.5 8.5l.94-2.06 2.06-.94-2.06-.94L8.5 2.5l-.94 2.06-2.06.94zm10 10l.94 2.06.94-2.06 2.06-.94-2.06-.94-.94-2.06-.94 2.06-2.06.94z\"/><path d=\"M17.41 7.96l-1.37-1.37c-.4-.4-.92-.59-1.43-.59-.52 0-1.04.2-1.43.59L10.3 9.45l-7.72 7.72c-.78.78-.78 2.05 0 2.83L4 21.41c.39.39.9.59 1.41.59.51 0 1.02-.2 1.41-.59l7.78-7.78 2.81-2.81c.8-.78.8-2.07 0-2.86zM5.41 20L4 18.59l7.72-7.72 1.47 1.35L5.41 20z\"/>\n",
              "  </svg>\n",
              "      </button>\n",
              "      \n",
              "  <style>\n",
              "    .colab-df-container {\n",
              "      display:flex;\n",
              "      flex-wrap:wrap;\n",
              "      gap: 12px;\n",
              "    }\n",
              "\n",
              "    .colab-df-convert {\n",
              "      background-color: #E8F0FE;\n",
              "      border: none;\n",
              "      border-radius: 50%;\n",
              "      cursor: pointer;\n",
              "      display: none;\n",
              "      fill: #1967D2;\n",
              "      height: 32px;\n",
              "      padding: 0 0 0 0;\n",
              "      width: 32px;\n",
              "    }\n",
              "\n",
              "    .colab-df-convert:hover {\n",
              "      background-color: #E2EBFA;\n",
              "      box-shadow: 0px 1px 2px rgba(60, 64, 67, 0.3), 0px 1px 3px 1px rgba(60, 64, 67, 0.15);\n",
              "      fill: #174EA6;\n",
              "    }\n",
              "\n",
              "    [theme=dark] .colab-df-convert {\n",
              "      background-color: #3B4455;\n",
              "      fill: #D2E3FC;\n",
              "    }\n",
              "\n",
              "    [theme=dark] .colab-df-convert:hover {\n",
              "      background-color: #434B5C;\n",
              "      box-shadow: 0px 1px 3px 1px rgba(0, 0, 0, 0.15);\n",
              "      filter: drop-shadow(0px 1px 2px rgba(0, 0, 0, 0.3));\n",
              "      fill: #FFFFFF;\n",
              "    }\n",
              "  </style>\n",
              "\n",
              "      <script>\n",
              "        const buttonEl =\n",
              "          document.querySelector('#df-776997bd-b43e-4fc8-847e-3cb21dda4cf8 button.colab-df-convert');\n",
              "        buttonEl.style.display =\n",
              "          google.colab.kernel.accessAllowed ? 'block' : 'none';\n",
              "\n",
              "        async function convertToInteractive(key) {\n",
              "          const element = document.querySelector('#df-776997bd-b43e-4fc8-847e-3cb21dda4cf8');\n",
              "          const dataTable =\n",
              "            await google.colab.kernel.invokeFunction('convertToInteractive',\n",
              "                                                     [key], {});\n",
              "          if (!dataTable) return;\n",
              "\n",
              "          const docLinkHtml = 'Like what you see? Visit the ' +\n",
              "            '<a target=\"_blank\" href=https://colab.research.google.com/notebooks/data_table.ipynb>data table notebook</a>'\n",
              "            + ' to learn more about interactive tables.';\n",
              "          element.innerHTML = '';\n",
              "          dataTable['output_type'] = 'display_data';\n",
              "          await google.colab.output.renderOutput(dataTable, element);\n",
              "          const docLink = document.createElement('div');\n",
              "          docLink.innerHTML = docLinkHtml;\n",
              "          element.appendChild(docLink);\n",
              "        }\n",
              "      </script>\n",
              "    </div>\n",
              "  </div>\n",
              "  "
            ]
          },
          "metadata": {},
          "execution_count": 61
        }
      ]
    },
    {
      "cell_type": "code",
      "source": [
        "data_alugueis.info()"
      ],
      "metadata": {
        "colab": {
          "base_uri": "https://localhost:8080/"
        },
        "id": "eXdEhjM2wtf3",
        "outputId": "ea78891f-981f-49f8-d206-71efd5a0362e"
      },
      "execution_count": 62,
      "outputs": [
        {
          "output_type": "stream",
          "name": "stdout",
          "text": [
            "<class 'pandas.core.frame.DataFrame'>\n",
            "Int64Index: 5899 entries, 0 to 5980\n",
            "Data columns (total 12 columns):\n",
            " #   Column            Non-Null Count  Dtype  \n",
            "---  ------            --------------  -----  \n",
            " 0   Endereco          5899 non-null   object \n",
            " 1   Valor_condominio  5899 non-null   float64\n",
            " 2   Vagas_garagem     5899 non-null   int64  \n",
            " 3   Valor_aluguel     5899 non-null   float64\n",
            " 4   Quartos           5899 non-null   int64  \n",
            " 5   m2                5899 non-null   float64\n",
            " 6   Bairro            5899 non-null   object \n",
            " 7   Cidade            5899 non-null   object \n",
            " 8   Latitude          5899 non-null   float64\n",
            " 9   Longitude         5899 non-null   float64\n",
            " 10  Rua               5899 non-null   object \n",
            " 11  Numero            2479 non-null   object \n",
            "dtypes: float64(5), int64(2), object(5)\n",
            "memory usage: 599.1+ KB\n"
          ]
        }
      ]
    },
    {
      "cell_type": "markdown",
      "source": [
        "# Primeiras análises"
      ],
      "metadata": {
        "id": "pN9uCUEDaace"
      }
    },
    {
      "cell_type": "code",
      "source": [
        "# Exibições sem notação científica\n",
        "pd.options.display.float_format = '{:.2f}'.format"
      ],
      "metadata": {
        "id": "P_nIsqvSl7O9"
      },
      "execution_count": 118,
      "outputs": []
    },
    {
      "cell_type": "markdown",
      "source": [
        "### Bairros com maiores médias de aluguel"
      ],
      "metadata": {
        "id": "drttHcFvadRY"
      }
    },
    {
      "cell_type": "code",
      "source": [
        "data_alugueis[\"Valor_condominio\"].mean()"
      ],
      "metadata": {
        "id": "_AxvI161w1sW",
        "colab": {
          "base_uri": "https://localhost:8080/"
        },
        "outputId": "51d4ab59-9f6b-4cbd-d5c2-aae7bc944c3d"
      },
      "execution_count": 80,
      "outputs": [
        {
          "output_type": "execute_result",
          "data": {
            "text/plain": [
              "1377.644685539922"
            ]
          },
          "metadata": {},
          "execution_count": 80
        }
      ]
    },
    {
      "cell_type": "code",
      "source": [
        "top_bairros = data_alugueis[\"Bairro\"].value_counts()[:10].index\n",
        "top_bairros"
      ],
      "metadata": {
        "colab": {
          "base_uri": "https://localhost:8080/"
        },
        "id": "hb4PGNuWfney",
        "outputId": "8ed590b5-3f05-4c98-b677-a21ca368beaf"
      },
      "execution_count": 86,
      "outputs": [
        {
          "output_type": "execute_result",
          "data": {
            "text/plain": [
              "Index([' Buritis', ' Lourdes', ' Funcionários', ' Sagrada Família', ' Serra',\n",
              "       ' Santo Antônio', ' Sion', ' Santo Agostinho', ' Savassi', ' Centro'],\n",
              "      dtype='object')"
            ]
          },
          "metadata": {},
          "execution_count": 86
        }
      ]
    },
    {
      "cell_type": "code",
      "source": [
        "grupo_bairros = data_alugueis.groupby(\"Bairro\")"
      ],
      "metadata": {
        "id": "bKsIe87giEgU"
      },
      "execution_count": 103,
      "outputs": []
    },
    {
      "cell_type": "code",
      "source": [
        "media_aluguel_por_bairro = pd.DataFrame(grupo_bairros['Valor_aluguel'].mean()).rename(columns = {'Valor_aluguel':'Media_valor_aluguel'})\n",
        "media_aluguel_por_bairro.reset_index(inplace = True)\n",
        "media_aluguel_por_bairro.head()"
      ],
      "metadata": {
        "colab": {
          "base_uri": "https://localhost:8080/",
          "height": 206
        },
        "id": "iOy0cRWIb0Co",
        "outputId": "d8a4f662-916a-469b-8ff7-8790ff435b1e"
      },
      "execution_count": 128,
      "outputs": [
        {
          "output_type": "execute_result",
          "data": {
            "text/plain": [
              "                Bairro  Media_valor_aluguel\n",
              "0            Aeroporto            300000.00\n",
              "1         Alto Barroca            665357.14\n",
              "2    Alto dos Caiçaras            602000.00\n",
              "3   Alto dos Pinheiros           2190000.00\n",
              "4       Alípio de Melo            577000.00"
            ],
            "text/html": [
              "\n",
              "  <div id=\"df-dc3b8c42-22f7-4a3b-bd22-5c4360236283\">\n",
              "    <div class=\"colab-df-container\">\n",
              "      <div>\n",
              "<style scoped>\n",
              "    .dataframe tbody tr th:only-of-type {\n",
              "        vertical-align: middle;\n",
              "    }\n",
              "\n",
              "    .dataframe tbody tr th {\n",
              "        vertical-align: top;\n",
              "    }\n",
              "\n",
              "    .dataframe thead th {\n",
              "        text-align: right;\n",
              "    }\n",
              "</style>\n",
              "<table border=\"1\" class=\"dataframe\">\n",
              "  <thead>\n",
              "    <tr style=\"text-align: right;\">\n",
              "      <th></th>\n",
              "      <th>Bairro</th>\n",
              "      <th>Media_valor_aluguel</th>\n",
              "    </tr>\n",
              "  </thead>\n",
              "  <tbody>\n",
              "    <tr>\n",
              "      <th>0</th>\n",
              "      <td>Aeroporto</td>\n",
              "      <td>300000.00</td>\n",
              "    </tr>\n",
              "    <tr>\n",
              "      <th>1</th>\n",
              "      <td>Alto Barroca</td>\n",
              "      <td>665357.14</td>\n",
              "    </tr>\n",
              "    <tr>\n",
              "      <th>2</th>\n",
              "      <td>Alto dos Caiçaras</td>\n",
              "      <td>602000.00</td>\n",
              "    </tr>\n",
              "    <tr>\n",
              "      <th>3</th>\n",
              "      <td>Alto dos Pinheiros</td>\n",
              "      <td>2190000.00</td>\n",
              "    </tr>\n",
              "    <tr>\n",
              "      <th>4</th>\n",
              "      <td>Alípio de Melo</td>\n",
              "      <td>577000.00</td>\n",
              "    </tr>\n",
              "  </tbody>\n",
              "</table>\n",
              "</div>\n",
              "      <button class=\"colab-df-convert\" onclick=\"convertToInteractive('df-dc3b8c42-22f7-4a3b-bd22-5c4360236283')\"\n",
              "              title=\"Convert this dataframe to an interactive table.\"\n",
              "              style=\"display:none;\">\n",
              "        \n",
              "  <svg xmlns=\"http://www.w3.org/2000/svg\" height=\"24px\"viewBox=\"0 0 24 24\"\n",
              "       width=\"24px\">\n",
              "    <path d=\"M0 0h24v24H0V0z\" fill=\"none\"/>\n",
              "    <path d=\"M18.56 5.44l.94 2.06.94-2.06 2.06-.94-2.06-.94-.94-2.06-.94 2.06-2.06.94zm-11 1L8.5 8.5l.94-2.06 2.06-.94-2.06-.94L8.5 2.5l-.94 2.06-2.06.94zm10 10l.94 2.06.94-2.06 2.06-.94-2.06-.94-.94-2.06-.94 2.06-2.06.94z\"/><path d=\"M17.41 7.96l-1.37-1.37c-.4-.4-.92-.59-1.43-.59-.52 0-1.04.2-1.43.59L10.3 9.45l-7.72 7.72c-.78.78-.78 2.05 0 2.83L4 21.41c.39.39.9.59 1.41.59.51 0 1.02-.2 1.41-.59l7.78-7.78 2.81-2.81c.8-.78.8-2.07 0-2.86zM5.41 20L4 18.59l7.72-7.72 1.47 1.35L5.41 20z\"/>\n",
              "  </svg>\n",
              "      </button>\n",
              "      \n",
              "  <style>\n",
              "    .colab-df-container {\n",
              "      display:flex;\n",
              "      flex-wrap:wrap;\n",
              "      gap: 12px;\n",
              "    }\n",
              "\n",
              "    .colab-df-convert {\n",
              "      background-color: #E8F0FE;\n",
              "      border: none;\n",
              "      border-radius: 50%;\n",
              "      cursor: pointer;\n",
              "      display: none;\n",
              "      fill: #1967D2;\n",
              "      height: 32px;\n",
              "      padding: 0 0 0 0;\n",
              "      width: 32px;\n",
              "    }\n",
              "\n",
              "    .colab-df-convert:hover {\n",
              "      background-color: #E2EBFA;\n",
              "      box-shadow: 0px 1px 2px rgba(60, 64, 67, 0.3), 0px 1px 3px 1px rgba(60, 64, 67, 0.15);\n",
              "      fill: #174EA6;\n",
              "    }\n",
              "\n",
              "    [theme=dark] .colab-df-convert {\n",
              "      background-color: #3B4455;\n",
              "      fill: #D2E3FC;\n",
              "    }\n",
              "\n",
              "    [theme=dark] .colab-df-convert:hover {\n",
              "      background-color: #434B5C;\n",
              "      box-shadow: 0px 1px 3px 1px rgba(0, 0, 0, 0.15);\n",
              "      filter: drop-shadow(0px 1px 2px rgba(0, 0, 0, 0.3));\n",
              "      fill: #FFFFFF;\n",
              "    }\n",
              "  </style>\n",
              "\n",
              "      <script>\n",
              "        const buttonEl =\n",
              "          document.querySelector('#df-dc3b8c42-22f7-4a3b-bd22-5c4360236283 button.colab-df-convert');\n",
              "        buttonEl.style.display =\n",
              "          google.colab.kernel.accessAllowed ? 'block' : 'none';\n",
              "\n",
              "        async function convertToInteractive(key) {\n",
              "          const element = document.querySelector('#df-dc3b8c42-22f7-4a3b-bd22-5c4360236283');\n",
              "          const dataTable =\n",
              "            await google.colab.kernel.invokeFunction('convertToInteractive',\n",
              "                                                     [key], {});\n",
              "          if (!dataTable) return;\n",
              "\n",
              "          const docLinkHtml = 'Like what you see? Visit the ' +\n",
              "            '<a target=\"_blank\" href=https://colab.research.google.com/notebooks/data_table.ipynb>data table notebook</a>'\n",
              "            + ' to learn more about interactive tables.';\n",
              "          element.innerHTML = '';\n",
              "          dataTable['output_type'] = 'display_data';\n",
              "          await google.colab.output.renderOutput(dataTable, element);\n",
              "          const docLink = document.createElement('div');\n",
              "          docLink.innerHTML = docLinkHtml;\n",
              "          element.appendChild(docLink);\n",
              "        }\n",
              "      </script>\n",
              "    </div>\n",
              "  </div>\n",
              "  "
            ]
          },
          "metadata": {},
          "execution_count": 128
        }
      ]
    },
    {
      "cell_type": "code",
      "source": [
        "plt.figure(figsize = (18,8))\n",
        "ax = sns.barplot(data = media_aluguel_por_bairro.sort_values(\"Media_valor_aluguel\", ascending = False)[:10], x = \"Bairro\", y = \"Media_valor_aluguel\",\n",
        "                 palette = 'rainbow')\n",
        "\n",
        "ax.tick_params(axis = 'x', rotation = 45)\n",
        "ax.set_title(\"Dez bairros com aluguel médio mais alto de Belo Horizonte\", fontsize = 20)\n",
        "plt.ylabel(\"Média do valor do aluguel\")\n",
        "plt.xlabel(\"\")\n",
        "ax.get_yaxis().set_major_formatter(mpl.ticker.FuncFormatter(lambda x,_ : format(int(x), ',')))"
      ],
      "metadata": {
        "colab": {
          "base_uri": "https://localhost:8080/",
          "height": 618
        },
        "id": "lptvqF8zc6xw",
        "outputId": "49417bcb-5bb9-4022-c543-ab5cfbbec8da"
      },
      "execution_count": 153,
      "outputs": [
        {
          "output_type": "display_data",
          "data": {
            "text/plain": [
              "<Figure size 1296x576 with 1 Axes>"
            ],
            "image/png": "[encoded data removed]"
          },
          "metadata": {
            "needs_background": "light"
          }
        }
      ]
    },
    {
      "cell_type": "code",
      "source": [
        "plt.figure(figsize = (18,8))\n",
        "ax = sns.barplot(data = media_aluguel_por_bairro.sort_values(\"Media_valor_aluguel\", ascending = False).query(\"Bairro in @top_bairros\")[:10], \n",
        "                 x = \"Bairro\", y = \"Media_valor_aluguel\",\n",
        "                 palette = 'rainbow')\n",
        "\n",
        "ax.tick_params(axis = 'x', rotation = 45)\n",
        "ax.set_title(\"Dez bairros com mais imóveis e aluguel médio mais alto de Belo Horizonte\", fontsize = 20)\n",
        "plt.ylabel(\"Média do valor do aluguel\")\n",
        "plt.xlabel(\"\")\n",
        "ax.get_yaxis().set_major_formatter(mpl.ticker.FuncFormatter(lambda x,_ : format(int(x), ',')))"
      ],
      "metadata": {
        "colab": {
          "base_uri": "https://localhost:8080/",
          "height": 562
        },
        "id": "zpFtWd7ekjIY",
        "outputId": "051a902a-807b-4f95-f381-a1c85ad2215e"
      },
      "execution_count": 155,
      "outputs": [
        {
          "output_type": "display_data",
          "data": {
            "text/plain": [
              "<Figure size 1296x576 with 1 Axes>"
            ],
            "image/png": "[encoded data removed]"
          },
          "metadata": {
            "needs_background": "light"
          }
        }
      ]
    },
    {
      "cell_type": "code",
      "source": [
        "media_aluguel_por_bairro.sort_values(\"Media_valor_aluguel\", ascending = False).query(\"Bairro in @top_bairros\")[:10]"
      ],
      "metadata": {
        "colab": {
          "base_uri": "https://localhost:8080/",
          "height": 363
        },
        "id": "a5uQZFX7nnRZ",
        "outputId": "6fe6443d-f575-4451-e99d-c9d5264fa8d3"
      },
      "execution_count": 156,
      "outputs": [
        {
          "output_type": "execute_result",
          "data": {
            "text/plain": [
              "               Bairro  Media_valor_aluguel\n",
              "107           Lourdes           1957944.29\n",
              "173   Santo Agostinho           1562880.14\n",
              "37             Centro           1479275.46\n",
              "69       Funcionários           1414884.09\n",
              "177           Savassi           1390028.40\n",
              "178             Serra           1223533.79\n",
              "183              Sion           1202248.01\n",
              "175     Santo Antônio           1078185.19\n",
              "21            Buritis            815659.24\n",
              "158   Sagrada Família            563457.09"
            ],
            "text/html": [
              "\n",
              "  <div id=\"df-a472a943-3f02-47cc-bc9a-e0ffef33eab1\">\n",
              "    <div class=\"colab-df-container\">\n",
              "      <div>\n",
              "<style scoped>\n",
              "    .dataframe tbody tr th:only-of-type {\n",
              "        vertical-align: middle;\n",
              "    }\n",
              "\n",
              "    .dataframe tbody tr th {\n",
              "        vertical-align: top;\n",
              "    }\n",
              "\n",
              "    .dataframe thead th {\n",
              "        text-align: right;\n",
              "    }\n",
              "</style>\n",
              "<table border=\"1\" class=\"dataframe\">\n",
              "  <thead>\n",
              "    <tr style=\"text-align: right;\">\n",
              "      <th></th>\n",
              "      <th>Bairro</th>\n",
              "      <th>Media_valor_aluguel</th>\n",
              "    </tr>\n",
              "  </thead>\n",
              "  <tbody>\n",
              "    <tr>\n",
              "      <th>107</th>\n",
              "      <td>Lourdes</td>\n",
              "      <td>1957944.29</td>\n",
              "    </tr>\n",
              "    <tr>\n",
              "      <th>173</th>\n",
              "      <td>Santo Agostinho</td>\n",
              "      <td>1562880.14</td>\n",
              "    </tr>\n",
              "    <tr>\n",
              "      <th>37</th>\n",
              "      <td>Centro</td>\n",
              "      <td>1479275.46</td>\n",
              "    </tr>\n",
              "    <tr>\n",
              "      <th>69</th>\n",
              "      <td>Funcionários</td>\n",
              "      <td>1414884.09</td>\n",
              "    </tr>\n",
              "    <tr>\n",
              "      <th>177</th>\n",
              "      <td>Savassi</td>\n",
              "      <td>1390028.40</td>\n",
              "    </tr>\n",
              "    <tr>\n",
              "      <th>178</th>\n",
              "      <td>Serra</td>\n",
              "      <td>1223533.79</td>\n",
              "    </tr>\n",
              "    <tr>\n",
              "      <th>183</th>\n",
              "      <td>Sion</td>\n",
              "      <td>1202248.01</td>\n",
              "    </tr>\n",
              "    <tr>\n",
              "      <th>175</th>\n",
              "      <td>Santo Antônio</td>\n",
              "      <td>1078185.19</td>\n",
              "    </tr>\n",
              "    <tr>\n",
              "      <th>21</th>\n",
              "      <td>Buritis</td>\n",
              "      <td>815659.24</td>\n",
              "    </tr>\n",
              "    <tr>\n",
              "      <th>158</th>\n",
              "      <td>Sagrada Família</td>\n",
              "      <td>563457.09</td>\n",
              "    </tr>\n",
              "  </tbody>\n",
              "</table>\n",
              "</div>\n",
              "      <button class=\"colab-df-convert\" onclick=\"convertToInteractive('df-a472a943-3f02-47cc-bc9a-e0ffef33eab1')\"\n",
              "              title=\"Convert this dataframe to an interactive table.\"\n",
              "              style=\"display:none;\">\n",
              "        \n",
              "  <svg xmlns=\"http://www.w3.org/2000/svg\" height=\"24px\"viewBox=\"0 0 24 24\"\n",
              "       width=\"24px\">\n",
              "    <path d=\"M0 0h24v24H0V0z\" fill=\"none\"/>\n",
              "    <path d=\"M18.56 5.44l.94 2.06.94-2.06 2.06-.94-2.06-.94-.94-2.06-.94 2.06-2.06.94zm-11 1L8.5 8.5l.94-2.06 2.06-.94-2.06-.94L8.5 2.5l-.94 2.06-2.06.94zm10 10l.94 2.06.94-2.06 2.06-.94-2.06-.94-.94-2.06-.94 2.06-2.06.94z\"/><path d=\"M17.41 7.96l-1.37-1.37c-.4-.4-.92-.59-1.43-.59-.52 0-1.04.2-1.43.59L10.3 9.45l-7.72 7.72c-.78.78-.78 2.05 0 2.83L4 21.41c.39.39.9.59 1.41.59.51 0 1.02-.2 1.41-.59l7.78-7.78 2.81-2.81c.8-.78.8-2.07 0-2.86zM5.41 20L4 18.59l7.72-7.72 1.47 1.35L5.41 20z\"/>\n",
              "  </svg>\n",
              "      </button>\n",
              "      \n",
              "  <style>\n",
              "    .colab-df-container {\n",
              "      display:flex;\n",
              "      flex-wrap:wrap;\n",
              "      gap: 12px;\n",
              "    }\n",
              "\n",
              "    .colab-df-convert {\n",
              "      background-color: #E8F0FE;\n",
              "      border: none;\n",
              "      border-radius: 50%;\n",
              "      cursor: pointer;\n",
              "      display: none;\n",
              "      fill: #1967D2;\n",
              "      height: 32px;\n",
              "      padding: 0 0 0 0;\n",
              "      width: 32px;\n",
              "    }\n",
              "\n",
              "    .colab-df-convert:hover {\n",
              "      background-color: #E2EBFA;\n",
              "      box-shadow: 0px 1px 2px rgba(60, 64, 67, 0.3), 0px 1px 3px 1px rgba(60, 64, 67, 0.15);\n",
              "      fill: #174EA6;\n",
              "    }\n",
              "\n",
              "    [theme=dark] .colab-df-convert {\n",
              "      background-color: #3B4455;\n",
              "      fill: #D2E3FC;\n",
              "    }\n",
              "\n",
              "    [theme=dark] .colab-df-convert:hover {\n",
              "      background-color: #434B5C;\n",
              "      box-shadow: 0px 1px 3px 1px rgba(0, 0, 0, 0.15);\n",
              "      filter: drop-shadow(0px 1px 2px rgba(0, 0, 0, 0.3));\n",
              "      fill: #FFFFFF;\n",
              "    }\n",
              "  </style>\n",
              "\n",
              "      <script>\n",
              "        const buttonEl =\n",
              "          document.querySelector('#df-a472a943-3f02-47cc-bc9a-e0ffef33eab1 button.colab-df-convert');\n",
              "        buttonEl.style.display =\n",
              "          google.colab.kernel.accessAllowed ? 'block' : 'none';\n",
              "\n",
              "        async function convertToInteractive(key) {\n",
              "          const element = document.querySelector('#df-a472a943-3f02-47cc-bc9a-e0ffef33eab1');\n",
              "          const dataTable =\n",
              "            await google.colab.kernel.invokeFunction('convertToInteractive',\n",
              "                                                     [key], {});\n",
              "          if (!dataTable) return;\n",
              "\n",
              "          const docLinkHtml = 'Like what you see? Visit the ' +\n",
              "            '<a target=\"_blank\" href=https://colab.research.google.com/notebooks/data_table.ipynb>data table notebook</a>'\n",
              "            + ' to learn more about interactive tables.';\n",
              "          element.innerHTML = '';\n",
              "          dataTable['output_type'] = 'display_data';\n",
              "          await google.colab.output.renderOutput(dataTable, element);\n",
              "          const docLink = document.createElement('div');\n",
              "          docLink.innerHTML = docLinkHtml;\n",
              "          element.appendChild(docLink);\n",
              "        }\n",
              "      </script>\n",
              "    </div>\n",
              "  </div>\n",
              "  "
            ]
          },
          "metadata": {},
          "execution_count": 156
        }
      ]
    },
    {
      "cell_type": "code",
      "source": [
        "grupo_bairros.mean().sort_values(\"Valor_aluguel\")"
      ],
      "metadata": {
        "colab": {
          "base_uri": "https://localhost:8080/",
          "height": 455
        },
        "id": "1EPiibMctcUj",
        "outputId": "a8ff5911-ef2c-4964-8276-d32ac611c2a3"
      },
      "execution_count": 163,
      "outputs": [
        {
          "output_type": "execute_result",
          "data": {
            "text/plain": [
              "                                     Valor_condominio  Vagas_garagem  \\\n",
              "Bairro                                                                 \n",
              " Ipê                                             0.00           3.00   \n",
              " São Cristóvão                                 310.00           1.00   \n",
              " Castanheira                                    60.00           0.00   \n",
              " Bonsucesso Barreiro                           180.00           1.00   \n",
              " Granja De Freitas                               0.00           1.00   \n",
              "...                                               ...            ...   \n",
              " Bandeirantes                                   17.25           6.44   \n",
              " Guarani                                         0.00           0.00   \n",
              " Distrito Industrial Vale do Jatobá              1.00          20.00   \n",
              " Itaipu Barreiro                                 0.00          10.00   \n",
              " Glalijá                                         0.00           0.00   \n",
              "\n",
              "                                     Valor_aluguel  Quartos       m2  \\\n",
              "Bairro                                                                 \n",
              " Ipê                                       1800.00     3.00   360.00   \n",
              " São Cristóvão                            95000.00     1.00    42.00   \n",
              " Castanheira                             115000.00     2.00    60.00   \n",
              " Bonsucesso Barreiro                     120000.00     2.00    65.00   \n",
              " Granja De Freitas                       130000.00     3.00    56.00   \n",
              "...                                            ...      ...      ...   \n",
              " Bandeirantes                           3277000.00     3.62 47571.31   \n",
              " Guarani                                3600000.00     0.00  2400.00   \n",
              " Distrito Industrial Vale do Jatobá     4800000.00     1.00  3637.00   \n",
              " Itaipu Barreiro                       11990000.00     4.00  4000.00   \n",
              " Glalijá                               35000000.00     0.00  9420.00   \n",
              "\n",
              "                                     Latitude  Longitude  \n",
              "Bairro                                                    \n",
              " Ipê                                   -19.87     -43.91  \n",
              " São Cristóvão                         -19.90     -43.95  \n",
              " Castanheira                           -20.00     -44.03  \n",
              " Bonsucesso Barreiro                   -19.98     -43.99  \n",
              " Granja De Freitas                     -19.91     -43.88  \n",
              "...                                       ...        ...  \n",
              " Bandeirantes                          -19.86     -43.99  \n",
              " Guarani                               -19.80     -44.03  \n",
              " Distrito Industrial Vale do Jatobá    -20.00     -44.03  \n",
              " Itaipu Barreiro                       -17.37     -44.98  \n",
              " Glalijá                               -19.94     -44.00  \n",
              "\n",
              "[212 rows x 7 columns]"
            ],
            "text/html": [
              "\n",
              "  <div id=\"df-072af894-5053-49c5-b0a3-cc72f4be55aa\">\n",
              "    <div class=\"colab-df-container\">\n",
              "      <div>\n",
              "<style scoped>\n",
              "    .dataframe tbody tr th:only-of-type {\n",
              "        vertical-align: middle;\n",
              "    }\n",
              "\n",
              "    .dataframe tbody tr th {\n",
              "        vertical-align: top;\n",
              "    }\n",
              "\n",
              "    .dataframe thead th {\n",
              "        text-align: right;\n",
              "    }\n",
              "</style>\n",
              "<table border=\"1\" class=\"dataframe\">\n",
              "  <thead>\n",
              "    <tr style=\"text-align: right;\">\n",
              "      <th></th>\n",
              "      <th>Valor_condominio</th>\n",
              "      <th>Vagas_garagem</th>\n",
              "      <th>Valor_aluguel</th>\n",
              "      <th>Quartos</th>\n",
              "      <th>m2</th>\n",
              "      <th>Latitude</th>\n",
              "      <th>Longitude</th>\n",
              "    </tr>\n",
              "    <tr>\n",
              "      <th>Bairro</th>\n",
              "      <th></th>\n",
              "      <th></th>\n",
              "      <th></th>\n",
              "      <th></th>\n",
              "      <th></th>\n",
              "      <th></th>\n",
              "      <th></th>\n",
              "    </tr>\n",
              "  </thead>\n",
              "  <tbody>\n",
              "    <tr>\n",
              "      <th>Ipê</th>\n",
              "      <td>0.00</td>\n",
              "      <td>3.00</td>\n",
              "      <td>1800.00</td>\n",
              "      <td>3.00</td>\n",
              "      <td>360.00</td>\n",
              "      <td>-19.87</td>\n",
              "      <td>-43.91</td>\n",
              "    </tr>\n",
              "    <tr>\n",
              "      <th>São Cristóvão</th>\n",
              "      <td>310.00</td>\n",
              "      <td>1.00</td>\n",
              "      <td>95000.00</td>\n",
              "      <td>1.00</td>\n",
              "      <td>42.00</td>\n",
              "      <td>-19.90</td>\n",
              "      <td>-43.95</td>\n",
              "    </tr>\n",
              "    <tr>\n",
              "      <th>Castanheira</th>\n",
              "      <td>60.00</td>\n",
              "      <td>0.00</td>\n",
              "      <td>115000.00</td>\n",
              "      <td>2.00</td>\n",
              "      <td>60.00</td>\n",
              "      <td>-20.00</td>\n",
              "      <td>-44.03</td>\n",
              "    </tr>\n",
              "    <tr>\n",
              "      <th>Bonsucesso Barreiro</th>\n",
              "      <td>180.00</td>\n",
              "      <td>1.00</td>\n",
              "      <td>120000.00</td>\n",
              "      <td>2.00</td>\n",
              "      <td>65.00</td>\n",
              "      <td>-19.98</td>\n",
              "      <td>-43.99</td>\n",
              "    </tr>\n",
              "    <tr>\n",
              "      <th>Granja De Freitas</th>\n",
              "      <td>0.00</td>\n",
              "      <td>1.00</td>\n",
              "      <td>130000.00</td>\n",
              "      <td>3.00</td>\n",
              "      <td>56.00</td>\n",
              "      <td>-19.91</td>\n",
              "      <td>-43.88</td>\n",
              "    </tr>\n",
              "    <tr>\n",
              "      <th>...</th>\n",
              "      <td>...</td>\n",
              "      <td>...</td>\n",
              "      <td>...</td>\n",
              "      <td>...</td>\n",
              "      <td>...</td>\n",
              "      <td>...</td>\n",
              "      <td>...</td>\n",
              "    </tr>\n",
              "    <tr>\n",
              "      <th>Bandeirantes</th>\n",
              "      <td>17.25</td>\n",
              "      <td>6.44</td>\n",
              "      <td>3277000.00</td>\n",
              "      <td>3.62</td>\n",
              "      <td>47571.31</td>\n",
              "      <td>-19.86</td>\n",
              "      <td>-43.99</td>\n",
              "    </tr>\n",
              "    <tr>\n",
              "      <th>Guarani</th>\n",
              "      <td>0.00</td>\n",
              "      <td>0.00</td>\n",
              "      <td>3600000.00</td>\n",
              "      <td>0.00</td>\n",
              "      <td>2400.00</td>\n",
              "      <td>-19.80</td>\n",
              "      <td>-44.03</td>\n",
              "    </tr>\n",
              "    <tr>\n",
              "      <th>Distrito Industrial Vale do Jatobá</th>\n",
              "      <td>1.00</td>\n",
              "      <td>20.00</td>\n",
              "      <td>4800000.00</td>\n",
              "      <td>1.00</td>\n",
              "      <td>3637.00</td>\n",
              "      <td>-20.00</td>\n",
              "      <td>-44.03</td>\n",
              "    </tr>\n",
              "    <tr>\n",
              "      <th>Itaipu Barreiro</th>\n",
              "      <td>0.00</td>\n",
              "      <td>10.00</td>\n",
              "      <td>11990000.00</td>\n",
              "      <td>4.00</td>\n",
              "      <td>4000.00</td>\n",
              "      <td>-17.37</td>\n",
              "      <td>-44.98</td>\n",
              "    </tr>\n",
              "    <tr>\n",
              "      <th>Glalijá</th>\n",
              "      <td>0.00</td>\n",
              "      <td>0.00</td>\n",
              "      <td>35000000.00</td>\n",
              "      <td>0.00</td>\n",
              "      <td>9420.00</td>\n",
              "      <td>-19.94</td>\n",
              "      <td>-44.00</td>\n",
              "    </tr>\n",
              "  </tbody>\n",
              "</table>\n",
              "<p>212 rows × 7 columns</p>\n",
              "</div>\n",
              "      <button class=\"colab-df-convert\" onclick=\"convertToInteractive('df-072af894-5053-49c5-b0a3-cc72f4be55aa')\"\n",
              "              title=\"Convert this dataframe to an interactive table.\"\n",
              "              style=\"display:none;\">\n",
              "        \n",
              "  <svg xmlns=\"http://www.w3.org/2000/svg\" height=\"24px\"viewBox=\"0 0 24 24\"\n",
              "       width=\"24px\">\n",
              "    <path d=\"M0 0h24v24H0V0z\" fill=\"none\"/>\n",
              "    <path d=\"M18.56 5.44l.94 2.06.94-2.06 2.06-.94-2.06-.94-.94-2.06-.94 2.06-2.06.94zm-11 1L8.5 8.5l.94-2.06 2.06-.94-2.06-.94L8.5 2.5l-.94 2.06-2.06.94zm10 10l.94 2.06.94-2.06 2.06-.94-2.06-.94-.94-2.06-.94 2.06-2.06.94z\"/><path d=\"M17.41 7.96l-1.37-1.37c-.4-.4-.92-.59-1.43-.59-.52 0-1.04.2-1.43.59L10.3 9.45l-7.72 7.72c-.78.78-.78 2.05 0 2.83L4 21.41c.39.39.9.59 1.41.59.51 0 1.02-.2 1.41-.59l7.78-7.78 2.81-2.81c.8-.78.8-2.07 0-2.86zM5.41 20L4 18.59l7.72-7.72 1.47 1.35L5.41 20z\"/>\n",
              "  </svg>\n",
              "      </button>\n",
              "      \n",
              "  <style>\n",
              "    .colab-df-container {\n",
              "      display:flex;\n",
              "      flex-wrap:wrap;\n",
              "      gap: 12px;\n",
              "    }\n",
              "\n",
              "    .colab-df-convert {\n",
              "      background-color: #E8F0FE;\n",
              "      border: none;\n",
              "      border-radius: 50%;\n",
              "      cursor: pointer;\n",
              "      display: none;\n",
              "      fill: #1967D2;\n",
              "      height: 32px;\n",
              "      padding: 0 0 0 0;\n",
              "      width: 32px;\n",
              "    }\n",
              "\n",
              "    .colab-df-convert:hover {\n",
              "      background-color: #E2EBFA;\n",
              "      box-shadow: 0px 1px 2px rgba(60, 64, 67, 0.3), 0px 1px 3px 1px rgba(60, 64, 67, 0.15);\n",
              "      fill: #174EA6;\n",
              "    }\n",
              "\n",
              "    [theme=dark] .colab-df-convert {\n",
              "      background-color: #3B4455;\n",
              "      fill: #D2E3FC;\n",
              "    }\n",
              "\n",
              "    [theme=dark] .colab-df-convert:hover {\n",
              "      background-color: #434B5C;\n",
              "      box-shadow: 0px 1px 3px 1px rgba(0, 0, 0, 0.15);\n",
              "      filter: drop-shadow(0px 1px 2px rgba(0, 0, 0, 0.3));\n",
              "      fill: #FFFFFF;\n",
              "    }\n",
              "  </style>\n",
              "\n",
              "      <script>\n",
              "        const buttonEl =\n",
              "          document.querySelector('#df-072af894-5053-49c5-b0a3-cc72f4be55aa button.colab-df-convert');\n",
              "        buttonEl.style.display =\n",
              "          google.colab.kernel.accessAllowed ? 'block' : 'none';\n",
              "\n",
              "        async function convertToInteractive(key) {\n",
              "          const element = document.querySelector('#df-072af894-5053-49c5-b0a3-cc72f4be55aa');\n",
              "          const dataTable =\n",
              "            await google.colab.kernel.invokeFunction('convertToInteractive',\n",
              "                                                     [key], {});\n",
              "          if (!dataTable) return;\n",
              "\n",
              "          const docLinkHtml = 'Like what you see? Visit the ' +\n",
              "            '<a target=\"_blank\" href=https://colab.research.google.com/notebooks/data_table.ipynb>data table notebook</a>'\n",
              "            + ' to learn more about interactive tables.';\n",
              "          element.innerHTML = '';\n",
              "          dataTable['output_type'] = 'display_data';\n",
              "          await google.colab.output.renderOutput(dataTable, element);\n",
              "          const docLink = document.createElement('div');\n",
              "          docLink.innerHTML = docLinkHtml;\n",
              "          element.appendChild(docLink);\n",
              "        }\n",
              "      </script>\n",
              "    </div>\n",
              "  </div>\n",
              "  "
            ]
          },
          "metadata": {},
          "execution_count": 163
        }
      ]
    },
    {
      "cell_type": "code",
      "source": [
        ""
      ],
      "metadata": {
        "id": "i8iiD8K1td2b"
      },
      "execution_count": null,
      "outputs": []
    }
  ]
}